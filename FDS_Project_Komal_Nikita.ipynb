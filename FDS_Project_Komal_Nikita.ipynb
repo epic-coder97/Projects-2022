{
  "nbformat": 4,
  "nbformat_minor": 0,
  "metadata": {
    "colab": {
      "name": "FDS_Project_Komal_Nikita.ipynb",
      "provenance": [],
      "collapsed_sections": [],
      "include_colab_link": true
    },
    "kernelspec": {
      "name": "python3",
      "display_name": "Python 3"
    },
    "language_info": {
      "name": "python"
    }
  },
  "cells": [
    {
      "cell_type": "markdown",
      "metadata": {
        "id": "view-in-github",
        "colab_type": "text"
      },
      "source": [
        "<a href=\"https://colab.research.google.com/github/epic-coder97/DATA-690-FDS--CW/blob/main/FDS_Project_Komal_Nikita.ipynb\" target=\"_parent\"><img src=\"https://colab.research.google.com/assets/colab-badge.svg\" alt=\"Open In Colab\"/></a>"
      ]
    },
    {
      "cell_type": "markdown",
      "source": [
        "# Project title - GDP Prediction using World Bank Data"
      ],
      "metadata": {
        "id": "5QHXyK-r6mqF"
      }
    },
    {
      "cell_type": "markdown",
      "source": [
        "For this analysis, the following API has been selected: https://datahelpdesk.worldbank.org/knowledgebase/articles/889392-api-documentation\n",
        "\n",
        "The World Bank data consists of demographic and other statistical data related to Population, Employment, Health, GDP, Energy Consumption, etc. for 120 different countries from the year 1990 to 2021. These categories are called indicators and are each defined by a code.\n",
        "\n",
        "The following indicators have been chosen for the project:\n",
        "- SP.POP.TOTL - Total Population\n",
        "\n",
        "- SP.POP.TOTL.FE.IN - Total Female Population\n",
        "\n",
        "- SP.POP.TOTL.MA.IN - Total Male Population\n",
        "\n",
        "- SE.COM.DURS - Compulsory Education Duration\n",
        "\n",
        "- SL.IND.EMPL.ZS - Employment in Industry(%)\n",
        "\n",
        "- SL.AGR.EMPL.ZS - Employment in Agriculture(%)\n",
        "\n",
        "- SL.UEM.TOTL.ZS - Unemployment(%)\n",
        "\n",
        "- NY.GDP.MKTP.CD - GDP in USD\n",
        "\n",
        "- NY.ADJ.NNTY.PC.KD.ZG - National Income per Capita\n",
        "\n",
        "- NY.GSR.NFCY.CD - Net income from Abroad\n"
      ],
      "metadata": {
        "id": "3FjjdiOt67AS"
      }
    },
    {
      "cell_type": "markdown",
      "source": [
        "For now we have taken data of 4 different countries for 31 years i.e. from 1990 to 2021 to predict GDP namely -\n",
        "- USA\n",
        "- China\n",
        "- Russia\n",
        "- India"
      ],
      "metadata": {
        "id": "Rp-MMmd683se"
      }
    },
    {
      "cell_type": "markdown",
      "source": [
        "Problem statement -\n",
        "- How is 'GDP in USD' affected for the 4 countries in 31 years?\n",
        "- What factors are responsible for the rise/decline in the GDP? Are they positively correlated or negatively correlated?\n",
        "- Implement time series analysis on GDP data and try to find out if the series is stationary or not using ACF value and ADF test. If not stationary, make it stationary.\n",
        "- Check whether the GDP is normally distributed using QQ Plot.\n",
        "- Apply machine learning algorithm to predict the GDP in USD\n",
        "- Visualize actual vs predicted values."
      ],
      "metadata": {
        "id": "PgclmYdAm-cd"
      }
    },
    {
      "cell_type": "markdown",
      "source": [
        "# Task 1 - Data Gathering"
      ],
      "metadata": {
        "id": "pypRA-xE9T5P"
      }
    },
    {
      "cell_type": "code",
      "source": [
        "!pip3 install world_bank_data"
      ],
      "metadata": {
        "colab": {
          "base_uri": "https://localhost:8080/"
        },
        "id": "FLLlxbIO6oIE",
        "outputId": "211743a8-c3b6-4907-cf40-8008dc8c9d91"
      },
      "execution_count": null,
      "outputs": [
        {
          "output_type": "stream",
          "name": "stdout",
          "text": [
            "Requirement already satisfied: world_bank_data in /usr/local/lib/python3.7/dist-packages (0.1.3)\n",
            "Requirement already satisfied: pandas in /usr/local/lib/python3.7/dist-packages (from world_bank_data) (1.3.5)\n",
            "Requirement already satisfied: requests in /usr/local/lib/python3.7/dist-packages (from world_bank_data) (2.23.0)\n",
            "Requirement already satisfied: cachetools in /usr/local/lib/python3.7/dist-packages (from world_bank_data) (4.2.4)\n",
            "Requirement already satisfied: numpy>=1.17.3 in /usr/local/lib/python3.7/dist-packages (from pandas->world_bank_data) (1.21.5)\n",
            "Requirement already satisfied: pytz>=2017.3 in /usr/local/lib/python3.7/dist-packages (from pandas->world_bank_data) (2018.9)\n",
            "Requirement already satisfied: python-dateutil>=2.7.3 in /usr/local/lib/python3.7/dist-packages (from pandas->world_bank_data) (2.8.2)\n",
            "Requirement already satisfied: six>=1.5 in /usr/local/lib/python3.7/dist-packages (from python-dateutil>=2.7.3->pandas->world_bank_data) (1.15.0)\n",
            "Requirement already satisfied: idna<3,>=2.5 in /usr/local/lib/python3.7/dist-packages (from requests->world_bank_data) (2.10)\n",
            "Requirement already satisfied: certifi>=2017.4.17 in /usr/local/lib/python3.7/dist-packages (from requests->world_bank_data) (2021.10.8)\n",
            "Requirement already satisfied: chardet<4,>=3.0.2 in /usr/local/lib/python3.7/dist-packages (from requests->world_bank_data) (3.0.4)\n",
            "Requirement already satisfied: urllib3!=1.25.0,!=1.25.1,<1.26,>=1.21.1 in /usr/local/lib/python3.7/dist-packages (from requests->world_bank_data) (1.24.3)\n"
          ]
        }
      ]
    },
    {
      "cell_type": "code",
      "source": [
        "import pandas as pd\n",
        "import numpy as np\n",
        "import requests\n",
        "\n",
        "from IPython.display import display\n",
        "import matplotlib.pyplot as plt\n",
        "import seaborn as sns"
      ],
      "metadata": {
        "id": "xLPAuH3lgFrU"
      },
      "execution_count": null,
      "outputs": []
    },
    {
      "cell_type": "code",
      "source": [
        "# Base URL used in all the API calls\n",
        "BASE_URL='http://api.worldbank.org/v2/'\n",
        "\n",
        "# List of indicators according to the features defined above\n",
        "INDICATOR_CODES=['SP.POP.TOTL', 'SP.POP.TOTL.FE.IN', 'SP.POP.TOTL.MA.IN',\n",
        " 'SE.COM.DURS',\n",
        " 'SL.IND.EMPL.ZS', 'SL.AGR.EMPL.ZS', 'SL.UEM.TOTL.ZS',\n",
        " 'NY.GDP.MKTP.CD',\n",
        " 'NY.ADJ.NNTY.PC.KD.ZG', 'NY.GSR.NFCY.CD']\n",
        "\n",
        "COUNTRY_LIST=['USA', 'India', 'China', 'Russia']\n"
      ],
      "metadata": {
        "id": "mLpJbpqkgqCC"
      },
      "execution_count": null,
      "outputs": []
    },
    {
      "cell_type": "code",
      "source": [
        "# mapping of feature codes to more meaningful names\n",
        "featureMap={\n",
        "    \"SP.POP.TOTL\": \"Total Population\",\n",
        "    \"SP.POP.TOTL.FE.IN\": \"Female Population\",\n",
        "    \"SP.POP.TOTL.MA.IN\": \"Male Population\",\n",
        "    \"SE.COM.DURS\": \"Compulsory Education Dur.\",\n",
        "    \"SL.IND.EMPL.ZS\":\"Employment in Industry(%)\",\n",
        "    \"SL.AGR.EMPL.ZS\": \"Employment in Agriculture(%)\",\n",
        "    \"SL.UEM.TOTL.ZS\": \"Unemployment(%)\",\n",
        "    \"NY.GDP.MKTP.CD\": \"GDP in USD\",\n",
        "    \"NY.ADJ.NNTY.PC.KD.ZG\":\"National Income per Capita\",\n",
        "    \"NY.GSR.NFCY.CD\":\"Net income from Abroad\"\n",
        "}\n",
        "\n",
        "# Mapping of country codes to their actual names\n",
        "countryMap={\n",
        "    \"US\": \"USA\",\n",
        "    \"IN\":\"India\",\n",
        "    \"CN\": \"China\",\n",
        "    \"RU\": \"Russia\"\n",
        "}"
      ],
      "metadata": {
        "id": "86CAPvtpiXWj"
      },
      "execution_count": null,
      "outputs": []
    },
    {
      "cell_type": "code",
      "source": [
        "# constant parameters used in sending the request.\n",
        "params = dict()\n",
        "# to ensure we receive a JSON response\n",
        "params['format']='json'\n",
        "# The data we fetch is for 59 years.\n",
        "# Hence we change the default page size of 50 to 100 to ensure we need only one API call per feature.\n",
        "params['per_page']='100'\n",
        "# Range of years for which the data is needed\n",
        "params['date']='1990:2021'"
      ],
      "metadata": {
        "id": "z1mVClFEmlY4"
      },
      "execution_count": null,
      "outputs": []
    },
    {
      "cell_type": "code",
      "source": [
        "# Function to get JSON data from the endpoint\n",
        "def loadJSONData(country_code): \n",
        "    dataList=[]\n",
        "    \n",
        "    # iterate over each indicator code specified in the contant INDICATOR_CODES defined above\n",
        "    for indicator in INDICATOR_CODES: \n",
        "        \n",
        "        # form the URL in the desired format\n",
        "        # E.g: http://api.worldbank.org/v2/countries/us/indicators/SP.POP.TOTL?format=json&per_page=200&date=1990:2021\n",
        "        url=BASE_URL+'countries/'+country_code.lower()+'/indicators/'+indicator\n",
        "        \n",
        "        # send the request using the resquests module\n",
        "        response = requests.get(url, params=params)\n",
        "\n",
        "            \n",
        "        # list of values for one feature\n",
        "        indicatorVals=[]\n",
        "        for obj in response.json()[1]:\n",
        "            \n",
        "            # check for empty values\n",
        "            if obj['value'] is \"\" or obj['value'] is None:\n",
        "                indicatorVals.append(None)\n",
        "            else:\n",
        "            # if a value is present, add it to the list of indicator values\n",
        "                indicatorVals.append(float(obj['value']))\n",
        "        dataList.append(indicatorVals)\n",
        "            \n",
        "    # Once all the features have been obtained, add the values for the \"Year\"\n",
        "    # The API returns the indicator values from the most recent year. Hence, we create a list of years in reverse order\n",
        "    dataList.append([year for year in range(2021, 1990, -1)])\n",
        "    # return the list of lists of feature values [[val1,val2,val3...], [val1,val2,val3...], [val1,val2,val3...], ...]\n",
        "    return dataList"
      ],
      "metadata": {
        "id": "QIscCfNL0rpI"
      },
      "execution_count": null,
      "outputs": []
    },
    {
      "cell_type": "code",
      "source": [
        "# function to invokde the loadJSONData function and form the final DataFrame for each country\n",
        "def getCountrywiseDF(country_code):\n",
        "    \n",
        "    # The resulting dataframe needs to have meaningful column names\n",
        "    # hence we create a list of column names from the map defined above\n",
        "    col_list=list(featureMap.values())\n",
        "    # append the year column name\n",
        "    col_list.append('Year')\n",
        "    \n",
        "    print(\"------------------Loading data for: \"+countryMap[country_code]+\"-----------------------\")\n",
        "    \n",
        "    # for the given country call the loadJSONData function and fetch the data from the API\n",
        "    dataList=loadJSONData(country_code)\n",
        "    \n",
        "    # transform the list of lists of features into a DataFrame\n",
        "    # np.column_stack is used to add each list as a column \n",
        "    df=pd.DataFrame(np.column_stack(dataList), columns=col_list)\n",
        "    \n",
        "    # add the country column by extracting the country name from the map using the country code\n",
        "    df['Country'] = countryMap[country_code]\n",
        "    \n",
        "    # display the resulting dataframe\n",
        "    display(df.head())\n",
        "    \n",
        "    # return the formed dataframe for the given country\n",
        "    return df\n"
      ],
      "metadata": {
        "id": "uApqeomb1gdV"
      },
      "execution_count": null,
      "outputs": []
    },
    {
      "cell_type": "code",
      "source": [
        "# Call the getCountrywiseDF function with the code of each country under consideration\n",
        "# We will have a seperate dataframe for each country - 7 data frames\n",
        "\n",
        "US_df=getCountrywiseDF('US')\n",
        "IN_df=getCountrywiseDF('IN')\n",
        "CN_df=getCountrywiseDF('CN')\n",
        "RU_df=getCountrywiseDF('RU')\n",
        "\n",
        "\n",
        "print(\"Data Loading Completed\")"
      ],
      "metadata": {
        "colab": {
          "base_uri": "https://localhost:8080/",
          "height": 1000
        },
        "id": "BKwcknCQ1xMK",
        "outputId": "461fbf50-9398-40e8-ca7d-cb1e77913071"
      },
      "execution_count": null,
      "outputs": [
        {
          "output_type": "stream",
          "name": "stdout",
          "text": [
            "------------------Loading data for: USA-----------------------\n"
          ]
        },
        {
          "output_type": "display_data",
          "data": {
            "text/plain": [
              "  Total Population Female Population Male Population  \\\n",
              "0      329484123.0       166449500.0     163034623.0   \n",
              "1      328329953.0       165867325.0     162462628.0   \n",
              "2      326838199.0       165118706.0     161719493.0   \n",
              "3      325122128.0       164262696.0     160859432.0   \n",
              "4      323071755.0       163245938.0     159825817.0   \n",
              "\n",
              "  Compulsory Education Dur. Employment in Industry(%)  \\\n",
              "0                      12.0                      None   \n",
              "1                      12.0                     19.91   \n",
              "2                      12.0                 19.870001   \n",
              "3                      12.0                     19.73   \n",
              "4                      12.0                 19.780001   \n",
              "\n",
              "  Employment in Agriculture(%) Unemployment(%)        GDP in USD  \\\n",
              "0                         None            8.05  20953030000000.0   \n",
              "1                         1.36            3.67  21433224697000.0   \n",
              "2                         1.37             3.9  20611860934000.0   \n",
              "3                         1.43            4.36  19542979183000.0   \n",
              "4                         1.43            4.87  18745075687000.0   \n",
              "\n",
              "  National Income per Capita Net income from Abroad  Year Country  \n",
              "0                       None         222340000000.0  2021     USA  \n",
              "1                   1.919556         266415000000.0  2020     USA  \n",
              "2                   1.962241         294163000000.0  2019     USA  \n",
              "3                   1.457315         294552000000.0  2018     USA  \n",
              "4                   0.173821         231944000000.0  2017     USA  "
            ],
            "text/html": [
              "\n",
              "  <div id=\"df-3dbbee9b-a981-4c40-aa23-477de2e0093c\">\n",
              "    <div class=\"colab-df-container\">\n",
              "      <div>\n",
              "<style scoped>\n",
              "    .dataframe tbody tr th:only-of-type {\n",
              "        vertical-align: middle;\n",
              "    }\n",
              "\n",
              "    .dataframe tbody tr th {\n",
              "        vertical-align: top;\n",
              "    }\n",
              "\n",
              "    .dataframe thead th {\n",
              "        text-align: right;\n",
              "    }\n",
              "</style>\n",
              "<table border=\"1\" class=\"dataframe\">\n",
              "  <thead>\n",
              "    <tr style=\"text-align: right;\">\n",
              "      <th></th>\n",
              "      <th>Total Population</th>\n",
              "      <th>Female Population</th>\n",
              "      <th>Male Population</th>\n",
              "      <th>Compulsory Education Dur.</th>\n",
              "      <th>Employment in Industry(%)</th>\n",
              "      <th>Employment in Agriculture(%)</th>\n",
              "      <th>Unemployment(%)</th>\n",
              "      <th>GDP in USD</th>\n",
              "      <th>National Income per Capita</th>\n",
              "      <th>Net income from Abroad</th>\n",
              "      <th>Year</th>\n",
              "      <th>Country</th>\n",
              "    </tr>\n",
              "  </thead>\n",
              "  <tbody>\n",
              "    <tr>\n",
              "      <th>0</th>\n",
              "      <td>329484123.0</td>\n",
              "      <td>166449500.0</td>\n",
              "      <td>163034623.0</td>\n",
              "      <td>12.0</td>\n",
              "      <td>None</td>\n",
              "      <td>None</td>\n",
              "      <td>8.05</td>\n",
              "      <td>20953030000000.0</td>\n",
              "      <td>None</td>\n",
              "      <td>222340000000.0</td>\n",
              "      <td>2021</td>\n",
              "      <td>USA</td>\n",
              "    </tr>\n",
              "    <tr>\n",
              "      <th>1</th>\n",
              "      <td>328329953.0</td>\n",
              "      <td>165867325.0</td>\n",
              "      <td>162462628.0</td>\n",
              "      <td>12.0</td>\n",
              "      <td>19.91</td>\n",
              "      <td>1.36</td>\n",
              "      <td>3.67</td>\n",
              "      <td>21433224697000.0</td>\n",
              "      <td>1.919556</td>\n",
              "      <td>266415000000.0</td>\n",
              "      <td>2020</td>\n",
              "      <td>USA</td>\n",
              "    </tr>\n",
              "    <tr>\n",
              "      <th>2</th>\n",
              "      <td>326838199.0</td>\n",
              "      <td>165118706.0</td>\n",
              "      <td>161719493.0</td>\n",
              "      <td>12.0</td>\n",
              "      <td>19.870001</td>\n",
              "      <td>1.37</td>\n",
              "      <td>3.9</td>\n",
              "      <td>20611860934000.0</td>\n",
              "      <td>1.962241</td>\n",
              "      <td>294163000000.0</td>\n",
              "      <td>2019</td>\n",
              "      <td>USA</td>\n",
              "    </tr>\n",
              "    <tr>\n",
              "      <th>3</th>\n",
              "      <td>325122128.0</td>\n",
              "      <td>164262696.0</td>\n",
              "      <td>160859432.0</td>\n",
              "      <td>12.0</td>\n",
              "      <td>19.73</td>\n",
              "      <td>1.43</td>\n",
              "      <td>4.36</td>\n",
              "      <td>19542979183000.0</td>\n",
              "      <td>1.457315</td>\n",
              "      <td>294552000000.0</td>\n",
              "      <td>2018</td>\n",
              "      <td>USA</td>\n",
              "    </tr>\n",
              "    <tr>\n",
              "      <th>4</th>\n",
              "      <td>323071755.0</td>\n",
              "      <td>163245938.0</td>\n",
              "      <td>159825817.0</td>\n",
              "      <td>12.0</td>\n",
              "      <td>19.780001</td>\n",
              "      <td>1.43</td>\n",
              "      <td>4.87</td>\n",
              "      <td>18745075687000.0</td>\n",
              "      <td>0.173821</td>\n",
              "      <td>231944000000.0</td>\n",
              "      <td>2017</td>\n",
              "      <td>USA</td>\n",
              "    </tr>\n",
              "  </tbody>\n",
              "</table>\n",
              "</div>\n",
              "      <button class=\"colab-df-convert\" onclick=\"convertToInteractive('df-3dbbee9b-a981-4c40-aa23-477de2e0093c')\"\n",
              "              title=\"Convert this dataframe to an interactive table.\"\n",
              "              style=\"display:none;\">\n",
              "        \n",
              "  <svg xmlns=\"http://www.w3.org/2000/svg\" height=\"24px\"viewBox=\"0 0 24 24\"\n",
              "       width=\"24px\">\n",
              "    <path d=\"M0 0h24v24H0V0z\" fill=\"none\"/>\n",
              "    <path d=\"M18.56 5.44l.94 2.06.94-2.06 2.06-.94-2.06-.94-.94-2.06-.94 2.06-2.06.94zm-11 1L8.5 8.5l.94-2.06 2.06-.94-2.06-.94L8.5 2.5l-.94 2.06-2.06.94zm10 10l.94 2.06.94-2.06 2.06-.94-2.06-.94-.94-2.06-.94 2.06-2.06.94z\"/><path d=\"M17.41 7.96l-1.37-1.37c-.4-.4-.92-.59-1.43-.59-.52 0-1.04.2-1.43.59L10.3 9.45l-7.72 7.72c-.78.78-.78 2.05 0 2.83L4 21.41c.39.39.9.59 1.41.59.51 0 1.02-.2 1.41-.59l7.78-7.78 2.81-2.81c.8-.78.8-2.07 0-2.86zM5.41 20L4 18.59l7.72-7.72 1.47 1.35L5.41 20z\"/>\n",
              "  </svg>\n",
              "      </button>\n",
              "      \n",
              "  <style>\n",
              "    .colab-df-container {\n",
              "      display:flex;\n",
              "      flex-wrap:wrap;\n",
              "      gap: 12px;\n",
              "    }\n",
              "\n",
              "    .colab-df-convert {\n",
              "      background-color: #E8F0FE;\n",
              "      border: none;\n",
              "      border-radius: 50%;\n",
              "      cursor: pointer;\n",
              "      display: none;\n",
              "      fill: #1967D2;\n",
              "      height: 32px;\n",
              "      padding: 0 0 0 0;\n",
              "      width: 32px;\n",
              "    }\n",
              "\n",
              "    .colab-df-convert:hover {\n",
              "      background-color: #E2EBFA;\n",
              "      box-shadow: 0px 1px 2px rgba(60, 64, 67, 0.3), 0px 1px 3px 1px rgba(60, 64, 67, 0.15);\n",
              "      fill: #174EA6;\n",
              "    }\n",
              "\n",
              "    [theme=dark] .colab-df-convert {\n",
              "      background-color: #3B4455;\n",
              "      fill: #D2E3FC;\n",
              "    }\n",
              "\n",
              "    [theme=dark] .colab-df-convert:hover {\n",
              "      background-color: #434B5C;\n",
              "      box-shadow: 0px 1px 3px 1px rgba(0, 0, 0, 0.15);\n",
              "      filter: drop-shadow(0px 1px 2px rgba(0, 0, 0, 0.3));\n",
              "      fill: #FFFFFF;\n",
              "    }\n",
              "  </style>\n",
              "\n",
              "      <script>\n",
              "        const buttonEl =\n",
              "          document.querySelector('#df-3dbbee9b-a981-4c40-aa23-477de2e0093c button.colab-df-convert');\n",
              "        buttonEl.style.display =\n",
              "          google.colab.kernel.accessAllowed ? 'block' : 'none';\n",
              "\n",
              "        async function convertToInteractive(key) {\n",
              "          const element = document.querySelector('#df-3dbbee9b-a981-4c40-aa23-477de2e0093c');\n",
              "          const dataTable =\n",
              "            await google.colab.kernel.invokeFunction('convertToInteractive',\n",
              "                                                     [key], {});\n",
              "          if (!dataTable) return;\n",
              "\n",
              "          const docLinkHtml = 'Like what you see? Visit the ' +\n",
              "            '<a target=\"_blank\" href=https://colab.research.google.com/notebooks/data_table.ipynb>data table notebook</a>'\n",
              "            + ' to learn more about interactive tables.';\n",
              "          element.innerHTML = '';\n",
              "          dataTable['output_type'] = 'display_data';\n",
              "          await google.colab.output.renderOutput(dataTable, element);\n",
              "          const docLink = document.createElement('div');\n",
              "          docLink.innerHTML = docLinkHtml;\n",
              "          element.appendChild(docLink);\n",
              "        }\n",
              "      </script>\n",
              "    </div>\n",
              "  </div>\n",
              "  "
            ]
          },
          "metadata": {}
        },
        {
          "output_type": "stream",
          "name": "stdout",
          "text": [
            "------------------Loading data for: India-----------------------\n"
          ]
        },
        {
          "output_type": "display_data",
          "data": {
            "text/plain": [
              "  Total Population Female Population Male Population  \\\n",
              "0     1380004385.0       662903415.0     717100970.0   \n",
              "1     1366417756.0       656288184.0     710129572.0   \n",
              "2     1352642283.0       649586703.0     703055580.0   \n",
              "3     1338676779.0       642796257.0     695880522.0   \n",
              "4     1324517250.0       635912563.0     688604687.0   \n",
              "\n",
              "  Compulsory Education Dur. Employment in Industry(%)  \\\n",
              "0                       8.0                      None   \n",
              "1                       8.0                 25.120001   \n",
              "2                       8.0                 24.950001   \n",
              "3                       8.0                 24.860001   \n",
              "4                       8.0                     24.74   \n",
              "\n",
              "  Employment in Agriculture(%) Unemployment(%)            GDP in USD  \\\n",
              "0                         None           7.997  2660245248867.629883   \n",
              "1                    42.599998            5.27   2870504096717.77002   \n",
              "2                    43.330002            5.33  2701111782775.029785   \n",
              "3                        43.93           5.358  2651472946374.910156   \n",
              "4                    44.560001           5.423  2294797980509.009766   \n",
              "\n",
              "  National Income per Capita Net income from Abroad  Year Country  \n",
              "0                       None      -24832904774.6716  2021   India  \n",
              "1                   2.266046    -27238626774.052502  2020   India  \n",
              "2                    5.40128      -28935365552.6301  2019   India  \n",
              "3                   7.257913    -28673171869.012299  2018   India  \n",
              "4                   6.355806    -46857856463.203697  2017   India  "
            ],
            "text/html": [
              "\n",
              "  <div id=\"df-268f7a6f-1765-4426-b41c-e8ef92a826c8\">\n",
              "    <div class=\"colab-df-container\">\n",
              "      <div>\n",
              "<style scoped>\n",
              "    .dataframe tbody tr th:only-of-type {\n",
              "        vertical-align: middle;\n",
              "    }\n",
              "\n",
              "    .dataframe tbody tr th {\n",
              "        vertical-align: top;\n",
              "    }\n",
              "\n",
              "    .dataframe thead th {\n",
              "        text-align: right;\n",
              "    }\n",
              "</style>\n",
              "<table border=\"1\" class=\"dataframe\">\n",
              "  <thead>\n",
              "    <tr style=\"text-align: right;\">\n",
              "      <th></th>\n",
              "      <th>Total Population</th>\n",
              "      <th>Female Population</th>\n",
              "      <th>Male Population</th>\n",
              "      <th>Compulsory Education Dur.</th>\n",
              "      <th>Employment in Industry(%)</th>\n",
              "      <th>Employment in Agriculture(%)</th>\n",
              "      <th>Unemployment(%)</th>\n",
              "      <th>GDP in USD</th>\n",
              "      <th>National Income per Capita</th>\n",
              "      <th>Net income from Abroad</th>\n",
              "      <th>Year</th>\n",
              "      <th>Country</th>\n",
              "    </tr>\n",
              "  </thead>\n",
              "  <tbody>\n",
              "    <tr>\n",
              "      <th>0</th>\n",
              "      <td>1380004385.0</td>\n",
              "      <td>662903415.0</td>\n",
              "      <td>717100970.0</td>\n",
              "      <td>8.0</td>\n",
              "      <td>None</td>\n",
              "      <td>None</td>\n",
              "      <td>7.997</td>\n",
              "      <td>2660245248867.629883</td>\n",
              "      <td>None</td>\n",
              "      <td>-24832904774.6716</td>\n",
              "      <td>2021</td>\n",
              "      <td>India</td>\n",
              "    </tr>\n",
              "    <tr>\n",
              "      <th>1</th>\n",
              "      <td>1366417756.0</td>\n",
              "      <td>656288184.0</td>\n",
              "      <td>710129572.0</td>\n",
              "      <td>8.0</td>\n",
              "      <td>25.120001</td>\n",
              "      <td>42.599998</td>\n",
              "      <td>5.27</td>\n",
              "      <td>2870504096717.77002</td>\n",
              "      <td>2.266046</td>\n",
              "      <td>-27238626774.052502</td>\n",
              "      <td>2020</td>\n",
              "      <td>India</td>\n",
              "    </tr>\n",
              "    <tr>\n",
              "      <th>2</th>\n",
              "      <td>1352642283.0</td>\n",
              "      <td>649586703.0</td>\n",
              "      <td>703055580.0</td>\n",
              "      <td>8.0</td>\n",
              "      <td>24.950001</td>\n",
              "      <td>43.330002</td>\n",
              "      <td>5.33</td>\n",
              "      <td>2701111782775.029785</td>\n",
              "      <td>5.40128</td>\n",
              "      <td>-28935365552.6301</td>\n",
              "      <td>2019</td>\n",
              "      <td>India</td>\n",
              "    </tr>\n",
              "    <tr>\n",
              "      <th>3</th>\n",
              "      <td>1338676779.0</td>\n",
              "      <td>642796257.0</td>\n",
              "      <td>695880522.0</td>\n",
              "      <td>8.0</td>\n",
              "      <td>24.860001</td>\n",
              "      <td>43.93</td>\n",
              "      <td>5.358</td>\n",
              "      <td>2651472946374.910156</td>\n",
              "      <td>7.257913</td>\n",
              "      <td>-28673171869.012299</td>\n",
              "      <td>2018</td>\n",
              "      <td>India</td>\n",
              "    </tr>\n",
              "    <tr>\n",
              "      <th>4</th>\n",
              "      <td>1324517250.0</td>\n",
              "      <td>635912563.0</td>\n",
              "      <td>688604687.0</td>\n",
              "      <td>8.0</td>\n",
              "      <td>24.74</td>\n",
              "      <td>44.560001</td>\n",
              "      <td>5.423</td>\n",
              "      <td>2294797980509.009766</td>\n",
              "      <td>6.355806</td>\n",
              "      <td>-46857856463.203697</td>\n",
              "      <td>2017</td>\n",
              "      <td>India</td>\n",
              "    </tr>\n",
              "  </tbody>\n",
              "</table>\n",
              "</div>\n",
              "      <button class=\"colab-df-convert\" onclick=\"convertToInteractive('df-268f7a6f-1765-4426-b41c-e8ef92a826c8')\"\n",
              "              title=\"Convert this dataframe to an interactive table.\"\n",
              "              style=\"display:none;\">\n",
              "        \n",
              "  <svg xmlns=\"http://www.w3.org/2000/svg\" height=\"24px\"viewBox=\"0 0 24 24\"\n",
              "       width=\"24px\">\n",
              "    <path d=\"M0 0h24v24H0V0z\" fill=\"none\"/>\n",
              "    <path d=\"M18.56 5.44l.94 2.06.94-2.06 2.06-.94-2.06-.94-.94-2.06-.94 2.06-2.06.94zm-11 1L8.5 8.5l.94-2.06 2.06-.94-2.06-.94L8.5 2.5l-.94 2.06-2.06.94zm10 10l.94 2.06.94-2.06 2.06-.94-2.06-.94-.94-2.06-.94 2.06-2.06.94z\"/><path d=\"M17.41 7.96l-1.37-1.37c-.4-.4-.92-.59-1.43-.59-.52 0-1.04.2-1.43.59L10.3 9.45l-7.72 7.72c-.78.78-.78 2.05 0 2.83L4 21.41c.39.39.9.59 1.41.59.51 0 1.02-.2 1.41-.59l7.78-7.78 2.81-2.81c.8-.78.8-2.07 0-2.86zM5.41 20L4 18.59l7.72-7.72 1.47 1.35L5.41 20z\"/>\n",
              "  </svg>\n",
              "      </button>\n",
              "      \n",
              "  <style>\n",
              "    .colab-df-container {\n",
              "      display:flex;\n",
              "      flex-wrap:wrap;\n",
              "      gap: 12px;\n",
              "    }\n",
              "\n",
              "    .colab-df-convert {\n",
              "      background-color: #E8F0FE;\n",
              "      border: none;\n",
              "      border-radius: 50%;\n",
              "      cursor: pointer;\n",
              "      display: none;\n",
              "      fill: #1967D2;\n",
              "      height: 32px;\n",
              "      padding: 0 0 0 0;\n",
              "      width: 32px;\n",
              "    }\n",
              "\n",
              "    .colab-df-convert:hover {\n",
              "      background-color: #E2EBFA;\n",
              "      box-shadow: 0px 1px 2px rgba(60, 64, 67, 0.3), 0px 1px 3px 1px rgba(60, 64, 67, 0.15);\n",
              "      fill: #174EA6;\n",
              "    }\n",
              "\n",
              "    [theme=dark] .colab-df-convert {\n",
              "      background-color: #3B4455;\n",
              "      fill: #D2E3FC;\n",
              "    }\n",
              "\n",
              "    [theme=dark] .colab-df-convert:hover {\n",
              "      background-color: #434B5C;\n",
              "      box-shadow: 0px 1px 3px 1px rgba(0, 0, 0, 0.15);\n",
              "      filter: drop-shadow(0px 1px 2px rgba(0, 0, 0, 0.3));\n",
              "      fill: #FFFFFF;\n",
              "    }\n",
              "  </style>\n",
              "\n",
              "      <script>\n",
              "        const buttonEl =\n",
              "          document.querySelector('#df-268f7a6f-1765-4426-b41c-e8ef92a826c8 button.colab-df-convert');\n",
              "        buttonEl.style.display =\n",
              "          google.colab.kernel.accessAllowed ? 'block' : 'none';\n",
              "\n",
              "        async function convertToInteractive(key) {\n",
              "          const element = document.querySelector('#df-268f7a6f-1765-4426-b41c-e8ef92a826c8');\n",
              "          const dataTable =\n",
              "            await google.colab.kernel.invokeFunction('convertToInteractive',\n",
              "                                                     [key], {});\n",
              "          if (!dataTable) return;\n",
              "\n",
              "          const docLinkHtml = 'Like what you see? Visit the ' +\n",
              "            '<a target=\"_blank\" href=https://colab.research.google.com/notebooks/data_table.ipynb>data table notebook</a>'\n",
              "            + ' to learn more about interactive tables.';\n",
              "          element.innerHTML = '';\n",
              "          dataTable['output_type'] = 'display_data';\n",
              "          await google.colab.output.renderOutput(dataTable, element);\n",
              "          const docLink = document.createElement('div');\n",
              "          docLink.innerHTML = docLinkHtml;\n",
              "          element.appendChild(docLink);\n",
              "        }\n",
              "      </script>\n",
              "    </div>\n",
              "  </div>\n",
              "  "
            ]
          },
          "metadata": {}
        },
        {
          "output_type": "stream",
          "name": "stdout",
          "text": [
            "------------------Loading data for: China-----------------------\n"
          ]
        },
        {
          "output_type": "display_data",
          "data": {
            "text/plain": [
              "  Total Population Female Population Male Population  \\\n",
              "0     1410929362.0       687245874.0     723683488.0   \n",
              "1     1407745000.0       685480283.0     722264717.0   \n",
              "2     1402760000.0       682854786.0     719905214.0   \n",
              "3     1396215000.0       679486853.0     716728147.0   \n",
              "4     1387790000.0       675220615.0     712569385.0   \n",
              "\n",
              "  Compulsory Education Dur. Employment in Industry(%)  \\\n",
              "0                       9.0                      None   \n",
              "1                       9.0                     27.42   \n",
              "2                       9.0                     28.32   \n",
              "3                       9.0                 28.110001   \n",
              "4                       9.0                 28.799999   \n",
              "\n",
              "  Employment in Agriculture(%) Unemployment(%)             GDP in USD  \\\n",
              "0                         None             5.0  14722730697890.099609   \n",
              "1                        25.33            4.52       14279937467431.0   \n",
              "2                        26.07            4.28  13894817549380.300781   \n",
              "3                        26.98            4.44  12310409370894.199219   \n",
              "4                    27.700001            4.53  11233276536744.699219   \n",
              "\n",
              "  National Income per Capita Net income from Abroad  Year Country  \n",
              "0                       None   -104389346162.764008  2021   China  \n",
              "1                   4.709598      -40009264084.3032  2020   China  \n",
              "2                   4.709229    -61028250710.399002  2019   China  \n",
              "3                   7.275885    -16130800733.858101  2018   China  \n",
              "4                    7.91786    -55699593393.031799  2017   China  "
            ],
            "text/html": [
              "\n",
              "  <div id=\"df-2caa79c1-7f67-4f28-bd9f-0b21ce34ab2b\">\n",
              "    <div class=\"colab-df-container\">\n",
              "      <div>\n",
              "<style scoped>\n",
              "    .dataframe tbody tr th:only-of-type {\n",
              "        vertical-align: middle;\n",
              "    }\n",
              "\n",
              "    .dataframe tbody tr th {\n",
              "        vertical-align: top;\n",
              "    }\n",
              "\n",
              "    .dataframe thead th {\n",
              "        text-align: right;\n",
              "    }\n",
              "</style>\n",
              "<table border=\"1\" class=\"dataframe\">\n",
              "  <thead>\n",
              "    <tr style=\"text-align: right;\">\n",
              "      <th></th>\n",
              "      <th>Total Population</th>\n",
              "      <th>Female Population</th>\n",
              "      <th>Male Population</th>\n",
              "      <th>Compulsory Education Dur.</th>\n",
              "      <th>Employment in Industry(%)</th>\n",
              "      <th>Employment in Agriculture(%)</th>\n",
              "      <th>Unemployment(%)</th>\n",
              "      <th>GDP in USD</th>\n",
              "      <th>National Income per Capita</th>\n",
              "      <th>Net income from Abroad</th>\n",
              "      <th>Year</th>\n",
              "      <th>Country</th>\n",
              "    </tr>\n",
              "  </thead>\n",
              "  <tbody>\n",
              "    <tr>\n",
              "      <th>0</th>\n",
              "      <td>1410929362.0</td>\n",
              "      <td>687245874.0</td>\n",
              "      <td>723683488.0</td>\n",
              "      <td>9.0</td>\n",
              "      <td>None</td>\n",
              "      <td>None</td>\n",
              "      <td>5.0</td>\n",
              "      <td>14722730697890.099609</td>\n",
              "      <td>None</td>\n",
              "      <td>-104389346162.764008</td>\n",
              "      <td>2021</td>\n",
              "      <td>China</td>\n",
              "    </tr>\n",
              "    <tr>\n",
              "      <th>1</th>\n",
              "      <td>1407745000.0</td>\n",
              "      <td>685480283.0</td>\n",
              "      <td>722264717.0</td>\n",
              "      <td>9.0</td>\n",
              "      <td>27.42</td>\n",
              "      <td>25.33</td>\n",
              "      <td>4.52</td>\n",
              "      <td>14279937467431.0</td>\n",
              "      <td>4.709598</td>\n",
              "      <td>-40009264084.3032</td>\n",
              "      <td>2020</td>\n",
              "      <td>China</td>\n",
              "    </tr>\n",
              "    <tr>\n",
              "      <th>2</th>\n",
              "      <td>1402760000.0</td>\n",
              "      <td>682854786.0</td>\n",
              "      <td>719905214.0</td>\n",
              "      <td>9.0</td>\n",
              "      <td>28.32</td>\n",
              "      <td>26.07</td>\n",
              "      <td>4.28</td>\n",
              "      <td>13894817549380.300781</td>\n",
              "      <td>4.709229</td>\n",
              "      <td>-61028250710.399002</td>\n",
              "      <td>2019</td>\n",
              "      <td>China</td>\n",
              "    </tr>\n",
              "    <tr>\n",
              "      <th>3</th>\n",
              "      <td>1396215000.0</td>\n",
              "      <td>679486853.0</td>\n",
              "      <td>716728147.0</td>\n",
              "      <td>9.0</td>\n",
              "      <td>28.110001</td>\n",
              "      <td>26.98</td>\n",
              "      <td>4.44</td>\n",
              "      <td>12310409370894.199219</td>\n",
              "      <td>7.275885</td>\n",
              "      <td>-16130800733.858101</td>\n",
              "      <td>2018</td>\n",
              "      <td>China</td>\n",
              "    </tr>\n",
              "    <tr>\n",
              "      <th>4</th>\n",
              "      <td>1387790000.0</td>\n",
              "      <td>675220615.0</td>\n",
              "      <td>712569385.0</td>\n",
              "      <td>9.0</td>\n",
              "      <td>28.799999</td>\n",
              "      <td>27.700001</td>\n",
              "      <td>4.53</td>\n",
              "      <td>11233276536744.699219</td>\n",
              "      <td>7.91786</td>\n",
              "      <td>-55699593393.031799</td>\n",
              "      <td>2017</td>\n",
              "      <td>China</td>\n",
              "    </tr>\n",
              "  </tbody>\n",
              "</table>\n",
              "</div>\n",
              "      <button class=\"colab-df-convert\" onclick=\"convertToInteractive('df-2caa79c1-7f67-4f28-bd9f-0b21ce34ab2b')\"\n",
              "              title=\"Convert this dataframe to an interactive table.\"\n",
              "              style=\"display:none;\">\n",
              "        \n",
              "  <svg xmlns=\"http://www.w3.org/2000/svg\" height=\"24px\"viewBox=\"0 0 24 24\"\n",
              "       width=\"24px\">\n",
              "    <path d=\"M0 0h24v24H0V0z\" fill=\"none\"/>\n",
              "    <path d=\"M18.56 5.44l.94 2.06.94-2.06 2.06-.94-2.06-.94-.94-2.06-.94 2.06-2.06.94zm-11 1L8.5 8.5l.94-2.06 2.06-.94-2.06-.94L8.5 2.5l-.94 2.06-2.06.94zm10 10l.94 2.06.94-2.06 2.06-.94-2.06-.94-.94-2.06-.94 2.06-2.06.94z\"/><path d=\"M17.41 7.96l-1.37-1.37c-.4-.4-.92-.59-1.43-.59-.52 0-1.04.2-1.43.59L10.3 9.45l-7.72 7.72c-.78.78-.78 2.05 0 2.83L4 21.41c.39.39.9.59 1.41.59.51 0 1.02-.2 1.41-.59l7.78-7.78 2.81-2.81c.8-.78.8-2.07 0-2.86zM5.41 20L4 18.59l7.72-7.72 1.47 1.35L5.41 20z\"/>\n",
              "  </svg>\n",
              "      </button>\n",
              "      \n",
              "  <style>\n",
              "    .colab-df-container {\n",
              "      display:flex;\n",
              "      flex-wrap:wrap;\n",
              "      gap: 12px;\n",
              "    }\n",
              "\n",
              "    .colab-df-convert {\n",
              "      background-color: #E8F0FE;\n",
              "      border: none;\n",
              "      border-radius: 50%;\n",
              "      cursor: pointer;\n",
              "      display: none;\n",
              "      fill: #1967D2;\n",
              "      height: 32px;\n",
              "      padding: 0 0 0 0;\n",
              "      width: 32px;\n",
              "    }\n",
              "\n",
              "    .colab-df-convert:hover {\n",
              "      background-color: #E2EBFA;\n",
              "      box-shadow: 0px 1px 2px rgba(60, 64, 67, 0.3), 0px 1px 3px 1px rgba(60, 64, 67, 0.15);\n",
              "      fill: #174EA6;\n",
              "    }\n",
              "\n",
              "    [theme=dark] .colab-df-convert {\n",
              "      background-color: #3B4455;\n",
              "      fill: #D2E3FC;\n",
              "    }\n",
              "\n",
              "    [theme=dark] .colab-df-convert:hover {\n",
              "      background-color: #434B5C;\n",
              "      box-shadow: 0px 1px 3px 1px rgba(0, 0, 0, 0.15);\n",
              "      filter: drop-shadow(0px 1px 2px rgba(0, 0, 0, 0.3));\n",
              "      fill: #FFFFFF;\n",
              "    }\n",
              "  </style>\n",
              "\n",
              "      <script>\n",
              "        const buttonEl =\n",
              "          document.querySelector('#df-2caa79c1-7f67-4f28-bd9f-0b21ce34ab2b button.colab-df-convert');\n",
              "        buttonEl.style.display =\n",
              "          google.colab.kernel.accessAllowed ? 'block' : 'none';\n",
              "\n",
              "        async function convertToInteractive(key) {\n",
              "          const element = document.querySelector('#df-2caa79c1-7f67-4f28-bd9f-0b21ce34ab2b');\n",
              "          const dataTable =\n",
              "            await google.colab.kernel.invokeFunction('convertToInteractive',\n",
              "                                                     [key], {});\n",
              "          if (!dataTable) return;\n",
              "\n",
              "          const docLinkHtml = 'Like what you see? Visit the ' +\n",
              "            '<a target=\"_blank\" href=https://colab.research.google.com/notebooks/data_table.ipynb>data table notebook</a>'\n",
              "            + ' to learn more about interactive tables.';\n",
              "          element.innerHTML = '';\n",
              "          dataTable['output_type'] = 'display_data';\n",
              "          await google.colab.output.renderOutput(dataTable, element);\n",
              "          const docLink = document.createElement('div');\n",
              "          docLink.innerHTML = docLinkHtml;\n",
              "          element.appendChild(docLink);\n",
              "        }\n",
              "      </script>\n",
              "    </div>\n",
              "  </div>\n",
              "  "
            ]
          },
          "metadata": {}
        },
        {
          "output_type": "stream",
          "name": "stdout",
          "text": [
            "------------------Loading data for: Russia-----------------------\n"
          ]
        },
        {
          "output_type": "display_data",
          "data": {
            "text/plain": [
              "  Total Population Female Population Male Population  \\\n",
              "0      144104080.0        77312158.0      66791922.0   \n",
              "1      144406261.0        77482723.0      66923538.0   \n",
              "2      144477859.0        77529365.0      66948494.0   \n",
              "3      144496739.0        77546480.0      66950259.0   \n",
              "4      144342397.0        77468057.0      66874340.0   \n",
              "\n",
              "  Compulsory Education Dur. Employment in Industry(%)  \\\n",
              "0                      11.0                      None   \n",
              "1                      11.0                 26.790001   \n",
              "2                      11.0                 26.809999   \n",
              "3                      11.0                 26.969999   \n",
              "4                      11.0                     27.02   \n",
              "\n",
              "  Employment in Agriculture(%) Unemployment(%)            GDP in USD  \\\n",
              "0                         None            5.59  1483497784867.600098   \n",
              "1                         5.83             4.5  1687448525466.610107   \n",
              "2                         5.88            4.85   1657328865709.98999   \n",
              "3                          5.9            5.21  1574199387070.899902   \n",
              "4                         6.72            5.56  1276786979221.810059   \n",
              "\n",
              "  National Income per Capita Net income from Abroad  Year Country  \n",
              "0                       None         -35004710000.0  2021  Russia  \n",
              "1                   0.698102    -53520549999.459396  2020  Russia  \n",
              "2                   6.409431      -40391889999.8564  2019  Russia  \n",
              "3                   3.053199      -42053299999.3144  2018  Russia  \n",
              "4                  -3.921968    -35496599999.403503  2017  Russia  "
            ],
            "text/html": [
              "\n",
              "  <div id=\"df-c87021b4-2f75-469b-a32c-aa05be2c119c\">\n",
              "    <div class=\"colab-df-container\">\n",
              "      <div>\n",
              "<style scoped>\n",
              "    .dataframe tbody tr th:only-of-type {\n",
              "        vertical-align: middle;\n",
              "    }\n",
              "\n",
              "    .dataframe tbody tr th {\n",
              "        vertical-align: top;\n",
              "    }\n",
              "\n",
              "    .dataframe thead th {\n",
              "        text-align: right;\n",
              "    }\n",
              "</style>\n",
              "<table border=\"1\" class=\"dataframe\">\n",
              "  <thead>\n",
              "    <tr style=\"text-align: right;\">\n",
              "      <th></th>\n",
              "      <th>Total Population</th>\n",
              "      <th>Female Population</th>\n",
              "      <th>Male Population</th>\n",
              "      <th>Compulsory Education Dur.</th>\n",
              "      <th>Employment in Industry(%)</th>\n",
              "      <th>Employment in Agriculture(%)</th>\n",
              "      <th>Unemployment(%)</th>\n",
              "      <th>GDP in USD</th>\n",
              "      <th>National Income per Capita</th>\n",
              "      <th>Net income from Abroad</th>\n",
              "      <th>Year</th>\n",
              "      <th>Country</th>\n",
              "    </tr>\n",
              "  </thead>\n",
              "  <tbody>\n",
              "    <tr>\n",
              "      <th>0</th>\n",
              "      <td>144104080.0</td>\n",
              "      <td>77312158.0</td>\n",
              "      <td>66791922.0</td>\n",
              "      <td>11.0</td>\n",
              "      <td>None</td>\n",
              "      <td>None</td>\n",
              "      <td>5.59</td>\n",
              "      <td>1483497784867.600098</td>\n",
              "      <td>None</td>\n",
              "      <td>-35004710000.0</td>\n",
              "      <td>2021</td>\n",
              "      <td>Russia</td>\n",
              "    </tr>\n",
              "    <tr>\n",
              "      <th>1</th>\n",
              "      <td>144406261.0</td>\n",
              "      <td>77482723.0</td>\n",
              "      <td>66923538.0</td>\n",
              "      <td>11.0</td>\n",
              "      <td>26.790001</td>\n",
              "      <td>5.83</td>\n",
              "      <td>4.5</td>\n",
              "      <td>1687448525466.610107</td>\n",
              "      <td>0.698102</td>\n",
              "      <td>-53520549999.459396</td>\n",
              "      <td>2020</td>\n",
              "      <td>Russia</td>\n",
              "    </tr>\n",
              "    <tr>\n",
              "      <th>2</th>\n",
              "      <td>144477859.0</td>\n",
              "      <td>77529365.0</td>\n",
              "      <td>66948494.0</td>\n",
              "      <td>11.0</td>\n",
              "      <td>26.809999</td>\n",
              "      <td>5.88</td>\n",
              "      <td>4.85</td>\n",
              "      <td>1657328865709.98999</td>\n",
              "      <td>6.409431</td>\n",
              "      <td>-40391889999.8564</td>\n",
              "      <td>2019</td>\n",
              "      <td>Russia</td>\n",
              "    </tr>\n",
              "    <tr>\n",
              "      <th>3</th>\n",
              "      <td>144496739.0</td>\n",
              "      <td>77546480.0</td>\n",
              "      <td>66950259.0</td>\n",
              "      <td>11.0</td>\n",
              "      <td>26.969999</td>\n",
              "      <td>5.9</td>\n",
              "      <td>5.21</td>\n",
              "      <td>1574199387070.899902</td>\n",
              "      <td>3.053199</td>\n",
              "      <td>-42053299999.3144</td>\n",
              "      <td>2018</td>\n",
              "      <td>Russia</td>\n",
              "    </tr>\n",
              "    <tr>\n",
              "      <th>4</th>\n",
              "      <td>144342397.0</td>\n",
              "      <td>77468057.0</td>\n",
              "      <td>66874340.0</td>\n",
              "      <td>11.0</td>\n",
              "      <td>27.02</td>\n",
              "      <td>6.72</td>\n",
              "      <td>5.56</td>\n",
              "      <td>1276786979221.810059</td>\n",
              "      <td>-3.921968</td>\n",
              "      <td>-35496599999.403503</td>\n",
              "      <td>2017</td>\n",
              "      <td>Russia</td>\n",
              "    </tr>\n",
              "  </tbody>\n",
              "</table>\n",
              "</div>\n",
              "      <button class=\"colab-df-convert\" onclick=\"convertToInteractive('df-c87021b4-2f75-469b-a32c-aa05be2c119c')\"\n",
              "              title=\"Convert this dataframe to an interactive table.\"\n",
              "              style=\"display:none;\">\n",
              "        \n",
              "  <svg xmlns=\"http://www.w3.org/2000/svg\" height=\"24px\"viewBox=\"0 0 24 24\"\n",
              "       width=\"24px\">\n",
              "    <path d=\"M0 0h24v24H0V0z\" fill=\"none\"/>\n",
              "    <path d=\"M18.56 5.44l.94 2.06.94-2.06 2.06-.94-2.06-.94-.94-2.06-.94 2.06-2.06.94zm-11 1L8.5 8.5l.94-2.06 2.06-.94-2.06-.94L8.5 2.5l-.94 2.06-2.06.94zm10 10l.94 2.06.94-2.06 2.06-.94-2.06-.94-.94-2.06-.94 2.06-2.06.94z\"/><path d=\"M17.41 7.96l-1.37-1.37c-.4-.4-.92-.59-1.43-.59-.52 0-1.04.2-1.43.59L10.3 9.45l-7.72 7.72c-.78.78-.78 2.05 0 2.83L4 21.41c.39.39.9.59 1.41.59.51 0 1.02-.2 1.41-.59l7.78-7.78 2.81-2.81c.8-.78.8-2.07 0-2.86zM5.41 20L4 18.59l7.72-7.72 1.47 1.35L5.41 20z\"/>\n",
              "  </svg>\n",
              "      </button>\n",
              "      \n",
              "  <style>\n",
              "    .colab-df-container {\n",
              "      display:flex;\n",
              "      flex-wrap:wrap;\n",
              "      gap: 12px;\n",
              "    }\n",
              "\n",
              "    .colab-df-convert {\n",
              "      background-color: #E8F0FE;\n",
              "      border: none;\n",
              "      border-radius: 50%;\n",
              "      cursor: pointer;\n",
              "      display: none;\n",
              "      fill: #1967D2;\n",
              "      height: 32px;\n",
              "      padding: 0 0 0 0;\n",
              "      width: 32px;\n",
              "    }\n",
              "\n",
              "    .colab-df-convert:hover {\n",
              "      background-color: #E2EBFA;\n",
              "      box-shadow: 0px 1px 2px rgba(60, 64, 67, 0.3), 0px 1px 3px 1px rgba(60, 64, 67, 0.15);\n",
              "      fill: #174EA6;\n",
              "    }\n",
              "\n",
              "    [theme=dark] .colab-df-convert {\n",
              "      background-color: #3B4455;\n",
              "      fill: #D2E3FC;\n",
              "    }\n",
              "\n",
              "    [theme=dark] .colab-df-convert:hover {\n",
              "      background-color: #434B5C;\n",
              "      box-shadow: 0px 1px 3px 1px rgba(0, 0, 0, 0.15);\n",
              "      filter: drop-shadow(0px 1px 2px rgba(0, 0, 0, 0.3));\n",
              "      fill: #FFFFFF;\n",
              "    }\n",
              "  </style>\n",
              "\n",
              "      <script>\n",
              "        const buttonEl =\n",
              "          document.querySelector('#df-c87021b4-2f75-469b-a32c-aa05be2c119c button.colab-df-convert');\n",
              "        buttonEl.style.display =\n",
              "          google.colab.kernel.accessAllowed ? 'block' : 'none';\n",
              "\n",
              "        async function convertToInteractive(key) {\n",
              "          const element = document.querySelector('#df-c87021b4-2f75-469b-a32c-aa05be2c119c');\n",
              "          const dataTable =\n",
              "            await google.colab.kernel.invokeFunction('convertToInteractive',\n",
              "                                                     [key], {});\n",
              "          if (!dataTable) return;\n",
              "\n",
              "          const docLinkHtml = 'Like what you see? Visit the ' +\n",
              "            '<a target=\"_blank\" href=https://colab.research.google.com/notebooks/data_table.ipynb>data table notebook</a>'\n",
              "            + ' to learn more about interactive tables.';\n",
              "          element.innerHTML = '';\n",
              "          dataTable['output_type'] = 'display_data';\n",
              "          await google.colab.output.renderOutput(dataTable, element);\n",
              "          const docLink = document.createElement('div');\n",
              "          docLink.innerHTML = docLinkHtml;\n",
              "          element.appendChild(docLink);\n",
              "        }\n",
              "      </script>\n",
              "    </div>\n",
              "  </div>\n",
              "  "
            ]
          },
          "metadata": {}
        },
        {
          "output_type": "stream",
          "name": "stdout",
          "text": [
            "Data Loading Completed\n"
          ]
        }
      ]
    },
    {
      "cell_type": "code",
      "source": [
        "# store all the DataFrames in a list to iteratively apply pre-processing steps\n",
        "list_df=[US_df.copy(), IN_df.copy(), CN_df.copy(), RU_df.copy()]"
      ],
      "metadata": {
        "id": "dPcnQhWZivBM"
      },
      "execution_count": null,
      "outputs": []
    },
    {
      "cell_type": "markdown",
      "source": [
        "The combined dataframe for all the countries using concat function"
      ],
      "metadata": {
        "id": "bBi0xrVSied8"
      }
    },
    {
      "cell_type": "code",
      "source": [
        "combined_df=pd.concat(list_df,sort=False)\n",
        "combined_df.head(20)"
      ],
      "metadata": {
        "colab": {
          "base_uri": "https://localhost:8080/",
          "height": 793
        },
        "id": "OEB3GMZh4jGc",
        "outputId": "e65ed758-2d1a-48fb-e63c-0693c8a00635"
      },
      "execution_count": null,
      "outputs": [
        {
          "output_type": "execute_result",
          "data": {
            "text/plain": [
              "   Total Population Female Population Male Population  \\\n",
              "0       329484123.0       166449500.0     163034623.0   \n",
              "1       328329953.0       165867325.0     162462628.0   \n",
              "2       326838199.0       165118706.0     161719493.0   \n",
              "3       325122128.0       164262696.0     160859432.0   \n",
              "4       323071755.0       163245938.0     159825817.0   \n",
              "5       320738994.0       162095782.0     158643212.0   \n",
              "6       318386329.0       160946434.0     157439895.0   \n",
              "7       316059947.0       159819809.0     156240138.0   \n",
              "8       313877662.0       158770009.0     155107653.0   \n",
              "9       311583481.0       157660006.0     153923475.0   \n",
              "10      309327143.0       156560332.0     152766811.0   \n",
              "11      306771529.0       155298019.0     151473510.0   \n",
              "12      304093966.0       153964934.0     150129032.0   \n",
              "13      301231207.0       152533798.0     148697409.0   \n",
              "14      298379912.0       151111214.0     147268698.0   \n",
              "15      295516599.0       149690393.0     145826206.0   \n",
              "16      292805298.0       148355637.0     144449661.0   \n",
              "17      290107933.0       147035365.0     143072568.0   \n",
              "18      287625193.0       145830133.0     141795060.0   \n",
              "19      284968955.0       144541124.0     140427831.0   \n",
              "\n",
              "   Compulsory Education Dur. Employment in Industry(%)  \\\n",
              "0                       12.0                      None   \n",
              "1                       12.0                     19.91   \n",
              "2                       12.0                 19.870001   \n",
              "3                       12.0                     19.73   \n",
              "4                       12.0                 19.780001   \n",
              "5                       12.0                 19.860001   \n",
              "6                       12.0                     19.98   \n",
              "7                       12.0                 19.950001   \n",
              "8                       12.0                     19.74   \n",
              "9                       12.0                 19.709999   \n",
              "10                      12.0                 19.639999   \n",
              "11                      12.0                      20.0   \n",
              "12                      12.0                 21.459999   \n",
              "13                      12.0                 22.139999   \n",
              "14                      12.0                     22.35   \n",
              "15                      12.0                     22.26   \n",
              "16                      12.0                 22.389999   \n",
              "17                      12.0                 22.450001   \n",
              "18                      12.0                     22.75   \n",
              "19                      12.0                     23.74   \n",
              "\n",
              "   Employment in Agriculture(%) Unemployment(%)        GDP in USD  \\\n",
              "0                          None            8.05  20953030000000.0   \n",
              "1                          1.36            3.67  21433224697000.0   \n",
              "2                          1.37             3.9  20611860934000.0   \n",
              "3                          1.43            4.36  19542979183000.0   \n",
              "4                          1.43            4.87  18745075687000.0   \n",
              "5                          1.44            5.28  18238300569000.0   \n",
              "6                          1.35            6.17  17527163695000.0   \n",
              "7                          1.32            7.37  16784849196000.0   \n",
              "8                          1.38            8.07  16197007349000.0   \n",
              "9                          1.45            8.95  15542581104000.0   \n",
              "10                         1.42            9.63  14992052727000.0   \n",
              "11                         1.35            9.25  14448933025000.0   \n",
              "12                         1.34            5.78  14712844084000.0   \n",
              "13                         1.29            4.62  14451858656000.0   \n",
              "14                         1.39            4.62  13814611414000.0   \n",
              "15                         1.41            5.08  13036640230000.0   \n",
              "16                         1.47            5.53  12213729147000.0   \n",
              "17                          1.5            5.99  11458243878000.0   \n",
              "18                         1.54            5.78  10936419054000.0   \n",
              "19                         1.53            4.73  10581821399000.0   \n",
              "\n",
              "   National Income per Capita Net income from Abroad  Year Country  \n",
              "0                        None         222340000000.0  2021     USA  \n",
              "1                    1.919556         266415000000.0  2020     USA  \n",
              "2                    1.962241         294163000000.0  2019     USA  \n",
              "3                    1.457315         294552000000.0  2018     USA  \n",
              "4                    0.173821         231944000000.0  2017     USA  \n",
              "5                    2.864358         220383000000.0  2016     USA  \n",
              "6                    2.728558         235226000000.0  2015     USA  \n",
              "7                    0.629826         230298000000.0  2014     USA  \n",
              "8                    3.141191         232757000000.0  2013     USA  \n",
              "9                    1.495728         237932000000.0  2012     USA  \n",
              "10                   3.429137         205633000000.0  2011     USA  \n",
              "11                  -1.950876         150243000000.0  2010     USA  \n",
              "12                   -3.83379         145214000000.0  2009     USA  \n",
              "13                  -0.722438          95664000000.0  2008     USA  \n",
              "14                   2.572515          46460000000.0  2007     USA  \n",
              "15                   2.062767          74800000000.0  2006     USA  \n",
              "16                   2.700943          76713000000.0  2005     USA  \n",
              "17                    1.14214          58496000000.0  2004     USA  \n",
              "18                   0.646056          45794000000.0  2003     USA  \n",
              "19                    0.40257          50364000000.0  2002     USA  "
            ],
            "text/html": [
              "\n",
              "  <div id=\"df-ef3e830a-523f-4b52-be10-b1fc5f3de616\">\n",
              "    <div class=\"colab-df-container\">\n",
              "      <div>\n",
              "<style scoped>\n",
              "    .dataframe tbody tr th:only-of-type {\n",
              "        vertical-align: middle;\n",
              "    }\n",
              "\n",
              "    .dataframe tbody tr th {\n",
              "        vertical-align: top;\n",
              "    }\n",
              "\n",
              "    .dataframe thead th {\n",
              "        text-align: right;\n",
              "    }\n",
              "</style>\n",
              "<table border=\"1\" class=\"dataframe\">\n",
              "  <thead>\n",
              "    <tr style=\"text-align: right;\">\n",
              "      <th></th>\n",
              "      <th>Total Population</th>\n",
              "      <th>Female Population</th>\n",
              "      <th>Male Population</th>\n",
              "      <th>Compulsory Education Dur.</th>\n",
              "      <th>Employment in Industry(%)</th>\n",
              "      <th>Employment in Agriculture(%)</th>\n",
              "      <th>Unemployment(%)</th>\n",
              "      <th>GDP in USD</th>\n",
              "      <th>National Income per Capita</th>\n",
              "      <th>Net income from Abroad</th>\n",
              "      <th>Year</th>\n",
              "      <th>Country</th>\n",
              "    </tr>\n",
              "  </thead>\n",
              "  <tbody>\n",
              "    <tr>\n",
              "      <th>0</th>\n",
              "      <td>329484123.0</td>\n",
              "      <td>166449500.0</td>\n",
              "      <td>163034623.0</td>\n",
              "      <td>12.0</td>\n",
              "      <td>None</td>\n",
              "      <td>None</td>\n",
              "      <td>8.05</td>\n",
              "      <td>20953030000000.0</td>\n",
              "      <td>None</td>\n",
              "      <td>222340000000.0</td>\n",
              "      <td>2021</td>\n",
              "      <td>USA</td>\n",
              "    </tr>\n",
              "    <tr>\n",
              "      <th>1</th>\n",
              "      <td>328329953.0</td>\n",
              "      <td>165867325.0</td>\n",
              "      <td>162462628.0</td>\n",
              "      <td>12.0</td>\n",
              "      <td>19.91</td>\n",
              "      <td>1.36</td>\n",
              "      <td>3.67</td>\n",
              "      <td>21433224697000.0</td>\n",
              "      <td>1.919556</td>\n",
              "      <td>266415000000.0</td>\n",
              "      <td>2020</td>\n",
              "      <td>USA</td>\n",
              "    </tr>\n",
              "    <tr>\n",
              "      <th>2</th>\n",
              "      <td>326838199.0</td>\n",
              "      <td>165118706.0</td>\n",
              "      <td>161719493.0</td>\n",
              "      <td>12.0</td>\n",
              "      <td>19.870001</td>\n",
              "      <td>1.37</td>\n",
              "      <td>3.9</td>\n",
              "      <td>20611860934000.0</td>\n",
              "      <td>1.962241</td>\n",
              "      <td>294163000000.0</td>\n",
              "      <td>2019</td>\n",
              "      <td>USA</td>\n",
              "    </tr>\n",
              "    <tr>\n",
              "      <th>3</th>\n",
              "      <td>325122128.0</td>\n",
              "      <td>164262696.0</td>\n",
              "      <td>160859432.0</td>\n",
              "      <td>12.0</td>\n",
              "      <td>19.73</td>\n",
              "      <td>1.43</td>\n",
              "      <td>4.36</td>\n",
              "      <td>19542979183000.0</td>\n",
              "      <td>1.457315</td>\n",
              "      <td>294552000000.0</td>\n",
              "      <td>2018</td>\n",
              "      <td>USA</td>\n",
              "    </tr>\n",
              "    <tr>\n",
              "      <th>4</th>\n",
              "      <td>323071755.0</td>\n",
              "      <td>163245938.0</td>\n",
              "      <td>159825817.0</td>\n",
              "      <td>12.0</td>\n",
              "      <td>19.780001</td>\n",
              "      <td>1.43</td>\n",
              "      <td>4.87</td>\n",
              "      <td>18745075687000.0</td>\n",
              "      <td>0.173821</td>\n",
              "      <td>231944000000.0</td>\n",
              "      <td>2017</td>\n",
              "      <td>USA</td>\n",
              "    </tr>\n",
              "    <tr>\n",
              "      <th>5</th>\n",
              "      <td>320738994.0</td>\n",
              "      <td>162095782.0</td>\n",
              "      <td>158643212.0</td>\n",
              "      <td>12.0</td>\n",
              "      <td>19.860001</td>\n",
              "      <td>1.44</td>\n",
              "      <td>5.28</td>\n",
              "      <td>18238300569000.0</td>\n",
              "      <td>2.864358</td>\n",
              "      <td>220383000000.0</td>\n",
              "      <td>2016</td>\n",
              "      <td>USA</td>\n",
              "    </tr>\n",
              "    <tr>\n",
              "      <th>6</th>\n",
              "      <td>318386329.0</td>\n",
              "      <td>160946434.0</td>\n",
              "      <td>157439895.0</td>\n",
              "      <td>12.0</td>\n",
              "      <td>19.98</td>\n",
              "      <td>1.35</td>\n",
              "      <td>6.17</td>\n",
              "      <td>17527163695000.0</td>\n",
              "      <td>2.728558</td>\n",
              "      <td>235226000000.0</td>\n",
              "      <td>2015</td>\n",
              "      <td>USA</td>\n",
              "    </tr>\n",
              "    <tr>\n",
              "      <th>7</th>\n",
              "      <td>316059947.0</td>\n",
              "      <td>159819809.0</td>\n",
              "      <td>156240138.0</td>\n",
              "      <td>12.0</td>\n",
              "      <td>19.950001</td>\n",
              "      <td>1.32</td>\n",
              "      <td>7.37</td>\n",
              "      <td>16784849196000.0</td>\n",
              "      <td>0.629826</td>\n",
              "      <td>230298000000.0</td>\n",
              "      <td>2014</td>\n",
              "      <td>USA</td>\n",
              "    </tr>\n",
              "    <tr>\n",
              "      <th>8</th>\n",
              "      <td>313877662.0</td>\n",
              "      <td>158770009.0</td>\n",
              "      <td>155107653.0</td>\n",
              "      <td>12.0</td>\n",
              "      <td>19.74</td>\n",
              "      <td>1.38</td>\n",
              "      <td>8.07</td>\n",
              "      <td>16197007349000.0</td>\n",
              "      <td>3.141191</td>\n",
              "      <td>232757000000.0</td>\n",
              "      <td>2013</td>\n",
              "      <td>USA</td>\n",
              "    </tr>\n",
              "    <tr>\n",
              "      <th>9</th>\n",
              "      <td>311583481.0</td>\n",
              "      <td>157660006.0</td>\n",
              "      <td>153923475.0</td>\n",
              "      <td>12.0</td>\n",
              "      <td>19.709999</td>\n",
              "      <td>1.45</td>\n",
              "      <td>8.95</td>\n",
              "      <td>15542581104000.0</td>\n",
              "      <td>1.495728</td>\n",
              "      <td>237932000000.0</td>\n",
              "      <td>2012</td>\n",
              "      <td>USA</td>\n",
              "    </tr>\n",
              "    <tr>\n",
              "      <th>10</th>\n",
              "      <td>309327143.0</td>\n",
              "      <td>156560332.0</td>\n",
              "      <td>152766811.0</td>\n",
              "      <td>12.0</td>\n",
              "      <td>19.639999</td>\n",
              "      <td>1.42</td>\n",
              "      <td>9.63</td>\n",
              "      <td>14992052727000.0</td>\n",
              "      <td>3.429137</td>\n",
              "      <td>205633000000.0</td>\n",
              "      <td>2011</td>\n",
              "      <td>USA</td>\n",
              "    </tr>\n",
              "    <tr>\n",
              "      <th>11</th>\n",
              "      <td>306771529.0</td>\n",
              "      <td>155298019.0</td>\n",
              "      <td>151473510.0</td>\n",
              "      <td>12.0</td>\n",
              "      <td>20.0</td>\n",
              "      <td>1.35</td>\n",
              "      <td>9.25</td>\n",
              "      <td>14448933025000.0</td>\n",
              "      <td>-1.950876</td>\n",
              "      <td>150243000000.0</td>\n",
              "      <td>2010</td>\n",
              "      <td>USA</td>\n",
              "    </tr>\n",
              "    <tr>\n",
              "      <th>12</th>\n",
              "      <td>304093966.0</td>\n",
              "      <td>153964934.0</td>\n",
              "      <td>150129032.0</td>\n",
              "      <td>12.0</td>\n",
              "      <td>21.459999</td>\n",
              "      <td>1.34</td>\n",
              "      <td>5.78</td>\n",
              "      <td>14712844084000.0</td>\n",
              "      <td>-3.83379</td>\n",
              "      <td>145214000000.0</td>\n",
              "      <td>2009</td>\n",
              "      <td>USA</td>\n",
              "    </tr>\n",
              "    <tr>\n",
              "      <th>13</th>\n",
              "      <td>301231207.0</td>\n",
              "      <td>152533798.0</td>\n",
              "      <td>148697409.0</td>\n",
              "      <td>12.0</td>\n",
              "      <td>22.139999</td>\n",
              "      <td>1.29</td>\n",
              "      <td>4.62</td>\n",
              "      <td>14451858656000.0</td>\n",
              "      <td>-0.722438</td>\n",
              "      <td>95664000000.0</td>\n",
              "      <td>2008</td>\n",
              "      <td>USA</td>\n",
              "    </tr>\n",
              "    <tr>\n",
              "      <th>14</th>\n",
              "      <td>298379912.0</td>\n",
              "      <td>151111214.0</td>\n",
              "      <td>147268698.0</td>\n",
              "      <td>12.0</td>\n",
              "      <td>22.35</td>\n",
              "      <td>1.39</td>\n",
              "      <td>4.62</td>\n",
              "      <td>13814611414000.0</td>\n",
              "      <td>2.572515</td>\n",
              "      <td>46460000000.0</td>\n",
              "      <td>2007</td>\n",
              "      <td>USA</td>\n",
              "    </tr>\n",
              "    <tr>\n",
              "      <th>15</th>\n",
              "      <td>295516599.0</td>\n",
              "      <td>149690393.0</td>\n",
              "      <td>145826206.0</td>\n",
              "      <td>12.0</td>\n",
              "      <td>22.26</td>\n",
              "      <td>1.41</td>\n",
              "      <td>5.08</td>\n",
              "      <td>13036640230000.0</td>\n",
              "      <td>2.062767</td>\n",
              "      <td>74800000000.0</td>\n",
              "      <td>2006</td>\n",
              "      <td>USA</td>\n",
              "    </tr>\n",
              "    <tr>\n",
              "      <th>16</th>\n",
              "      <td>292805298.0</td>\n",
              "      <td>148355637.0</td>\n",
              "      <td>144449661.0</td>\n",
              "      <td>12.0</td>\n",
              "      <td>22.389999</td>\n",
              "      <td>1.47</td>\n",
              "      <td>5.53</td>\n",
              "      <td>12213729147000.0</td>\n",
              "      <td>2.700943</td>\n",
              "      <td>76713000000.0</td>\n",
              "      <td>2005</td>\n",
              "      <td>USA</td>\n",
              "    </tr>\n",
              "    <tr>\n",
              "      <th>17</th>\n",
              "      <td>290107933.0</td>\n",
              "      <td>147035365.0</td>\n",
              "      <td>143072568.0</td>\n",
              "      <td>12.0</td>\n",
              "      <td>22.450001</td>\n",
              "      <td>1.5</td>\n",
              "      <td>5.99</td>\n",
              "      <td>11458243878000.0</td>\n",
              "      <td>1.14214</td>\n",
              "      <td>58496000000.0</td>\n",
              "      <td>2004</td>\n",
              "      <td>USA</td>\n",
              "    </tr>\n",
              "    <tr>\n",
              "      <th>18</th>\n",
              "      <td>287625193.0</td>\n",
              "      <td>145830133.0</td>\n",
              "      <td>141795060.0</td>\n",
              "      <td>12.0</td>\n",
              "      <td>22.75</td>\n",
              "      <td>1.54</td>\n",
              "      <td>5.78</td>\n",
              "      <td>10936419054000.0</td>\n",
              "      <td>0.646056</td>\n",
              "      <td>45794000000.0</td>\n",
              "      <td>2003</td>\n",
              "      <td>USA</td>\n",
              "    </tr>\n",
              "    <tr>\n",
              "      <th>19</th>\n",
              "      <td>284968955.0</td>\n",
              "      <td>144541124.0</td>\n",
              "      <td>140427831.0</td>\n",
              "      <td>12.0</td>\n",
              "      <td>23.74</td>\n",
              "      <td>1.53</td>\n",
              "      <td>4.73</td>\n",
              "      <td>10581821399000.0</td>\n",
              "      <td>0.40257</td>\n",
              "      <td>50364000000.0</td>\n",
              "      <td>2002</td>\n",
              "      <td>USA</td>\n",
              "    </tr>\n",
              "  </tbody>\n",
              "</table>\n",
              "</div>\n",
              "      <button class=\"colab-df-convert\" onclick=\"convertToInteractive('df-ef3e830a-523f-4b52-be10-b1fc5f3de616')\"\n",
              "              title=\"Convert this dataframe to an interactive table.\"\n",
              "              style=\"display:none;\">\n",
              "        \n",
              "  <svg xmlns=\"http://www.w3.org/2000/svg\" height=\"24px\"viewBox=\"0 0 24 24\"\n",
              "       width=\"24px\">\n",
              "    <path d=\"M0 0h24v24H0V0z\" fill=\"none\"/>\n",
              "    <path d=\"M18.56 5.44l.94 2.06.94-2.06 2.06-.94-2.06-.94-.94-2.06-.94 2.06-2.06.94zm-11 1L8.5 8.5l.94-2.06 2.06-.94-2.06-.94L8.5 2.5l-.94 2.06-2.06.94zm10 10l.94 2.06.94-2.06 2.06-.94-2.06-.94-.94-2.06-.94 2.06-2.06.94z\"/><path d=\"M17.41 7.96l-1.37-1.37c-.4-.4-.92-.59-1.43-.59-.52 0-1.04.2-1.43.59L10.3 9.45l-7.72 7.72c-.78.78-.78 2.05 0 2.83L4 21.41c.39.39.9.59 1.41.59.51 0 1.02-.2 1.41-.59l7.78-7.78 2.81-2.81c.8-.78.8-2.07 0-2.86zM5.41 20L4 18.59l7.72-7.72 1.47 1.35L5.41 20z\"/>\n",
              "  </svg>\n",
              "      </button>\n",
              "      \n",
              "  <style>\n",
              "    .colab-df-container {\n",
              "      display:flex;\n",
              "      flex-wrap:wrap;\n",
              "      gap: 12px;\n",
              "    }\n",
              "\n",
              "    .colab-df-convert {\n",
              "      background-color: #E8F0FE;\n",
              "      border: none;\n",
              "      border-radius: 50%;\n",
              "      cursor: pointer;\n",
              "      display: none;\n",
              "      fill: #1967D2;\n",
              "      height: 32px;\n",
              "      padding: 0 0 0 0;\n",
              "      width: 32px;\n",
              "    }\n",
              "\n",
              "    .colab-df-convert:hover {\n",
              "      background-color: #E2EBFA;\n",
              "      box-shadow: 0px 1px 2px rgba(60, 64, 67, 0.3), 0px 1px 3px 1px rgba(60, 64, 67, 0.15);\n",
              "      fill: #174EA6;\n",
              "    }\n",
              "\n",
              "    [theme=dark] .colab-df-convert {\n",
              "      background-color: #3B4455;\n",
              "      fill: #D2E3FC;\n",
              "    }\n",
              "\n",
              "    [theme=dark] .colab-df-convert:hover {\n",
              "      background-color: #434B5C;\n",
              "      box-shadow: 0px 1px 3px 1px rgba(0, 0, 0, 0.15);\n",
              "      filter: drop-shadow(0px 1px 2px rgba(0, 0, 0, 0.3));\n",
              "      fill: #FFFFFF;\n",
              "    }\n",
              "  </style>\n",
              "\n",
              "      <script>\n",
              "        const buttonEl =\n",
              "          document.querySelector('#df-ef3e830a-523f-4b52-be10-b1fc5f3de616 button.colab-df-convert');\n",
              "        buttonEl.style.display =\n",
              "          google.colab.kernel.accessAllowed ? 'block' : 'none';\n",
              "\n",
              "        async function convertToInteractive(key) {\n",
              "          const element = document.querySelector('#df-ef3e830a-523f-4b52-be10-b1fc5f3de616');\n",
              "          const dataTable =\n",
              "            await google.colab.kernel.invokeFunction('convertToInteractive',\n",
              "                                                     [key], {});\n",
              "          if (!dataTable) return;\n",
              "\n",
              "          const docLinkHtml = 'Like what you see? Visit the ' +\n",
              "            '<a target=\"_blank\" href=https://colab.research.google.com/notebooks/data_table.ipynb>data table notebook</a>'\n",
              "            + ' to learn more about interactive tables.';\n",
              "          element.innerHTML = '';\n",
              "          dataTable['output_type'] = 'display_data';\n",
              "          await google.colab.output.renderOutput(dataTable, element);\n",
              "          const docLink = document.createElement('div');\n",
              "          docLink.innerHTML = docLinkHtml;\n",
              "          element.appendChild(docLink);\n",
              "        }\n",
              "      </script>\n",
              "    </div>\n",
              "  </div>\n",
              "  "
            ]
          },
          "metadata": {},
          "execution_count": 10
        }
      ]
    },
    {
      "cell_type": "markdown",
      "source": [
        "# Task 2 - Data Cleaning"
      ],
      "metadata": {
        "id": "ZB54OBYE_f0l"
      }
    },
    {
      "cell_type": "code",
      "source": [
        "combined_df.shape # checking with data size"
      ],
      "metadata": {
        "colab": {
          "base_uri": "https://localhost:8080/"
        },
        "id": "NmmvYRVy5Ovc",
        "outputId": "d53409f2-6689-4a71-92a0-21224fd9e4f6"
      },
      "execution_count": null,
      "outputs": [
        {
          "output_type": "execute_result",
          "data": {
            "text/plain": [
              "(124, 12)"
            ]
          },
          "metadata": {},
          "execution_count": 11
        }
      ]
    },
    {
      "cell_type": "code",
      "source": [
        "combined_df.info() #checking column information"
      ],
      "metadata": {
        "colab": {
          "base_uri": "https://localhost:8080/"
        },
        "id": "Z4Jw9z046N5y",
        "outputId": "9aac7957-47c0-47a3-8f71-3fd471666541"
      },
      "execution_count": null,
      "outputs": [
        {
          "output_type": "stream",
          "name": "stdout",
          "text": [
            "<class 'pandas.core.frame.DataFrame'>\n",
            "Int64Index: 124 entries, 0 to 30\n",
            "Data columns (total 12 columns):\n",
            " #   Column                        Non-Null Count  Dtype \n",
            "---  ------                        --------------  ----- \n",
            " 0   Total Population              124 non-null    object\n",
            " 1   Female Population             124 non-null    object\n",
            " 2   Male Population               124 non-null    object\n",
            " 3   Compulsory Education Dur.     81 non-null     object\n",
            " 4   Employment in Industry(%)     116 non-null    object\n",
            " 5   Employment in Agriculture(%)  116 non-null    object\n",
            " 6   Unemployment(%)               120 non-null    object\n",
            " 7   GDP in USD                    124 non-null    object\n",
            " 8   National Income per Capita    111 non-null    object\n",
            " 9   Net income from Abroad        124 non-null    object\n",
            " 10  Year                          124 non-null    object\n",
            " 11  Country                       124 non-null    object\n",
            "dtypes: object(12)\n",
            "memory usage: 12.6+ KB\n"
          ]
        }
      ]
    },
    {
      "cell_type": "markdown",
      "source": [
        "Since all the columns have datatype as object, we will have to convert into numerical data , in this case float, except for the Year and Country"
      ],
      "metadata": {
        "id": "5OJzHpc4_tiR"
      }
    },
    {
      "cell_type": "code",
      "source": [
        "combined_df['Total Population'] = pd.to_numeric(combined_df['Total Population'],errors='coerce')\n",
        "combined_df['Total Population'] = combined_df['Total Population'].astype(\"float\")\n",
        "\n",
        "combined_df['Female Population'] = pd.to_numeric(combined_df['Female Population'],errors='coerce')\n",
        "combined_df['Female Population'] = combined_df['Female Population'].astype(\"float\")\n",
        "\n",
        "combined_df['Male Population'] = pd.to_numeric(combined_df['Male Population'],errors='coerce')\n",
        "combined_df['Male Population'] = combined_df['Male Population'].astype(\"float\")\n",
        "\n",
        "combined_df['Compulsory Education Dur.'] = pd.to_numeric(combined_df['Compulsory Education Dur.'],errors='coerce')\n",
        "combined_df['Compulsory Education Dur.'] = combined_df['Compulsory Education Dur.'].astype(\"float\")\n",
        "\n",
        "combined_df['Employment in Industry(%)'] = pd.to_numeric(combined_df['Employment in Industry(%)'],errors='coerce')\n",
        "combined_df['Employment in Industry(%)'] = combined_df['Employment in Industry(%)'].astype(\"float\")\n",
        "\n",
        "combined_df['Employment in Agriculture(%)'] = pd.to_numeric(combined_df['Employment in Agriculture(%)'],errors='coerce')\n",
        "combined_df['Employment in Agriculture(%)'] = combined_df['Employment in Agriculture(%)'].astype(\"float\")\n",
        "\n",
        "combined_df['Unemployment(%)'] = pd.to_numeric(combined_df['Unemployment(%)'],errors='coerce')\n",
        "combined_df['Unemployment(%)'] = combined_df['Unemployment(%)'].astype(\"float\")\n",
        "\n",
        "combined_df['GDP in USD'] = pd.to_numeric(combined_df['GDP in USD'],errors='coerce')\n",
        "combined_df['GDP in USD'] = combined_df['GDP in USD'].astype(\"float\")\n",
        "\n",
        "combined_df['National Income per Capita'] = pd.to_numeric(combined_df['National Income per Capita'],errors='coerce')\n",
        "combined_df['National Income per Capita'] = combined_df['National Income per Capita'].astype(\"float\")\n",
        "\n",
        "combined_df['Net income from Abroad'] = pd.to_numeric(combined_df['Net income from Abroad'],errors='coerce')\n",
        "combined_df['Net income from Abroad'] = combined_df['Net income from Abroad'].astype(\"float\")\n",
        "\n",
        "#combined_df['Year'] = pd.to_numeric(combined_df['Year'],errors='coerce')\n",
        "#combined_df['Year'] = combined_df['Year'].astype(\"float\")"
      ],
      "metadata": {
        "id": "akME1eaG7Mvw"
      },
      "execution_count": null,
      "outputs": []
    },
    {
      "cell_type": "code",
      "source": [
        "combined_df.dtypes  # check if the columns have the desired datatype"
      ],
      "metadata": {
        "colab": {
          "base_uri": "https://localhost:8080/"
        },
        "id": "gdzTnQn0-_ei",
        "outputId": "a7d17f2e-c2e0-458a-a727-8fbdd17ca3af"
      },
      "execution_count": null,
      "outputs": [
        {
          "output_type": "execute_result",
          "data": {
            "text/plain": [
              "Total Population                float64\n",
              "Female Population               float64\n",
              "Male Population                 float64\n",
              "Compulsory Education Dur.       float64\n",
              "Employment in Industry(%)       float64\n",
              "Employment in Agriculture(%)    float64\n",
              "Unemployment(%)                 float64\n",
              "GDP in USD                      float64\n",
              "National Income per Capita      float64\n",
              "Net income from Abroad          float64\n",
              "Year                             object\n",
              "Country                          object\n",
              "dtype: object"
            ]
          },
          "metadata": {},
          "execution_count": 14
        }
      ]
    },
    {
      "cell_type": "code",
      "source": [
        "combined_df.isnull().sum()  # check for null values"
      ],
      "metadata": {
        "colab": {
          "base_uri": "https://localhost:8080/"
        },
        "id": "fGg4stJ4_Rfr",
        "outputId": "6af97147-dbb1-4a5a-ec55-e70fdea12793"
      },
      "execution_count": null,
      "outputs": [
        {
          "output_type": "execute_result",
          "data": {
            "text/plain": [
              "Total Population                 0\n",
              "Female Population                0\n",
              "Male Population                  0\n",
              "Compulsory Education Dur.       43\n",
              "Employment in Industry(%)        8\n",
              "Employment in Agriculture(%)     8\n",
              "Unemployment(%)                  4\n",
              "GDP in USD                       0\n",
              "National Income per Capita      13\n",
              "Net income from Abroad           0\n",
              "Year                             0\n",
              "Country                          0\n",
              "dtype: int64"
            ]
          },
          "metadata": {},
          "execution_count": 15
        }
      ]
    },
    {
      "cell_type": "code",
      "source": [
        "# Filling the null values with mean instead of dropping the rows\n",
        "na_cols = combined_df.isna().any()\n",
        "na_cols = na_cols[na_cols == True].reset_index()\n",
        "na_cols = na_cols[\"index\"].tolist()\n",
        "for col in combined_df.columns[1:]:\n",
        "     if col in na_cols:\n",
        "        if combined_df[col].dtype != 'object':\n",
        "             combined_df[col] =  combined_df[col].fillna(combined_df[col].mean()).round(0)\n",
        "combined_df.isnull().sum()"
      ],
      "metadata": {
        "colab": {
          "base_uri": "https://localhost:8080/"
        },
        "id": "HQeisT2dAHXP",
        "outputId": "4de1d348-739e-41bf-9e10-50a1a971b7d7"
      },
      "execution_count": null,
      "outputs": [
        {
          "output_type": "execute_result",
          "data": {
            "text/plain": [
              "Total Population                0\n",
              "Female Population               0\n",
              "Male Population                 0\n",
              "Compulsory Education Dur.       0\n",
              "Employment in Industry(%)       0\n",
              "Employment in Agriculture(%)    0\n",
              "Unemployment(%)                 0\n",
              "GDP in USD                      0\n",
              "National Income per Capita      0\n",
              "Net income from Abroad          0\n",
              "Year                            0\n",
              "Country                         0\n",
              "dtype: int64"
            ]
          },
          "metadata": {},
          "execution_count": 16
        }
      ]
    },
    {
      "cell_type": "markdown",
      "source": [
        "# Task 3 - Data Analysis using Data Visualization"
      ],
      "metadata": {
        "id": "xgRN9R8WAhag"
      }
    },
    {
      "cell_type": "code",
      "source": [
        "combined_df.describe() # get the description of the data, how it is destributed."
      ],
      "metadata": {
        "colab": {
          "base_uri": "https://localhost:8080/",
          "height": 379
        },
        "id": "jxkJii-CA2fr",
        "outputId": "d3ced30d-1443-44a7-81ab-01baad343567"
      },
      "execution_count": null,
      "outputs": [
        {
          "output_type": "execute_result",
          "data": {
            "text/plain": [
              "       Total Population  Female Population  Male Population  \\\n",
              "count      1.240000e+02       1.240000e+02     1.240000e+02   \n",
              "mean       7.182409e+08       3.508589e+08     3.673820e+08   \n",
              "std        5.139443e+08       2.453057e+08     2.686789e+08   \n",
              "min        1.427424e+08       7.646903e+07     6.624941e+07   \n",
              "25%        2.243518e+08       1.151969e+08     1.091549e+08   \n",
              "50%        6.013810e+08       2.932350e+08     3.081460e+08   \n",
              "75%        1.250900e+09       6.054131e+08     6.440155e+08   \n",
              "max        1.410929e+09       6.872459e+08     7.236835e+08   \n",
              "\n",
              "       Compulsory Education Dur.  Employment in Industry(%)  \\\n",
              "count                 124.000000                 124.000000   \n",
              "mean                    9.887097                  24.362903   \n",
              "std                     1.282843                   4.955632   \n",
              "min                     8.000000                  15.000000   \n",
              "25%                     9.000000                  21.000000   \n",
              "50%                    10.000000                  24.000000   \n",
              "75%                    10.250000                  28.000000   \n",
              "max                    12.000000                  40.000000   \n",
              "\n",
              "       Employment in Agriculture(%)  Unemployment(%)    GDP in USD  \\\n",
              "count                    124.000000       124.000000  1.240000e+02   \n",
              "mean                      27.233871         5.782258  5.017113e+12   \n",
              "std                       22.196868         1.932017  5.959203e+12   \n",
              "min                        1.000000         2.000000  1.959071e+11   \n",
              "25%                        6.000000         5.000000  5.527342e+11   \n",
              "50%                       27.000000         5.500000  1.755249e+12   \n",
              "75%                       50.000000         6.000000  8.698870e+12   \n",
              "max                       63.000000        13.000000  2.143322e+13   \n",
              "\n",
              "       National Income per Capita  Net income from Abroad  \n",
              "count                  124.000000            1.240000e+02  \n",
              "mean                     4.362903            1.532143e+10  \n",
              "std                      6.458542            8.049007e+10  \n",
              "min                    -26.000000           -1.043893e+11  \n",
              "25%                      2.000000           -2.187529e+10  \n",
              "50%                      4.000000           -5.113203e+09  \n",
              "75%                      7.000000            1.879975e+10  \n",
              "max                     23.000000            2.945520e+11  "
            ],
            "text/html": [
              "\n",
              "  <div id=\"df-863db5b7-aa08-426b-b698-ef9f2db442f9\">\n",
              "    <div class=\"colab-df-container\">\n",
              "      <div>\n",
              "<style scoped>\n",
              "    .dataframe tbody tr th:only-of-type {\n",
              "        vertical-align: middle;\n",
              "    }\n",
              "\n",
              "    .dataframe tbody tr th {\n",
              "        vertical-align: top;\n",
              "    }\n",
              "\n",
              "    .dataframe thead th {\n",
              "        text-align: right;\n",
              "    }\n",
              "</style>\n",
              "<table border=\"1\" class=\"dataframe\">\n",
              "  <thead>\n",
              "    <tr style=\"text-align: right;\">\n",
              "      <th></th>\n",
              "      <th>Total Population</th>\n",
              "      <th>Female Population</th>\n",
              "      <th>Male Population</th>\n",
              "      <th>Compulsory Education Dur.</th>\n",
              "      <th>Employment in Industry(%)</th>\n",
              "      <th>Employment in Agriculture(%)</th>\n",
              "      <th>Unemployment(%)</th>\n",
              "      <th>GDP in USD</th>\n",
              "      <th>National Income per Capita</th>\n",
              "      <th>Net income from Abroad</th>\n",
              "    </tr>\n",
              "  </thead>\n",
              "  <tbody>\n",
              "    <tr>\n",
              "      <th>count</th>\n",
              "      <td>1.240000e+02</td>\n",
              "      <td>1.240000e+02</td>\n",
              "      <td>1.240000e+02</td>\n",
              "      <td>124.000000</td>\n",
              "      <td>124.000000</td>\n",
              "      <td>124.000000</td>\n",
              "      <td>124.000000</td>\n",
              "      <td>1.240000e+02</td>\n",
              "      <td>124.000000</td>\n",
              "      <td>1.240000e+02</td>\n",
              "    </tr>\n",
              "    <tr>\n",
              "      <th>mean</th>\n",
              "      <td>7.182409e+08</td>\n",
              "      <td>3.508589e+08</td>\n",
              "      <td>3.673820e+08</td>\n",
              "      <td>9.887097</td>\n",
              "      <td>24.362903</td>\n",
              "      <td>27.233871</td>\n",
              "      <td>5.782258</td>\n",
              "      <td>5.017113e+12</td>\n",
              "      <td>4.362903</td>\n",
              "      <td>1.532143e+10</td>\n",
              "    </tr>\n",
              "    <tr>\n",
              "      <th>std</th>\n",
              "      <td>5.139443e+08</td>\n",
              "      <td>2.453057e+08</td>\n",
              "      <td>2.686789e+08</td>\n",
              "      <td>1.282843</td>\n",
              "      <td>4.955632</td>\n",
              "      <td>22.196868</td>\n",
              "      <td>1.932017</td>\n",
              "      <td>5.959203e+12</td>\n",
              "      <td>6.458542</td>\n",
              "      <td>8.049007e+10</td>\n",
              "    </tr>\n",
              "    <tr>\n",
              "      <th>min</th>\n",
              "      <td>1.427424e+08</td>\n",
              "      <td>7.646903e+07</td>\n",
              "      <td>6.624941e+07</td>\n",
              "      <td>8.000000</td>\n",
              "      <td>15.000000</td>\n",
              "      <td>1.000000</td>\n",
              "      <td>2.000000</td>\n",
              "      <td>1.959071e+11</td>\n",
              "      <td>-26.000000</td>\n",
              "      <td>-1.043893e+11</td>\n",
              "    </tr>\n",
              "    <tr>\n",
              "      <th>25%</th>\n",
              "      <td>2.243518e+08</td>\n",
              "      <td>1.151969e+08</td>\n",
              "      <td>1.091549e+08</td>\n",
              "      <td>9.000000</td>\n",
              "      <td>21.000000</td>\n",
              "      <td>6.000000</td>\n",
              "      <td>5.000000</td>\n",
              "      <td>5.527342e+11</td>\n",
              "      <td>2.000000</td>\n",
              "      <td>-2.187529e+10</td>\n",
              "    </tr>\n",
              "    <tr>\n",
              "      <th>50%</th>\n",
              "      <td>6.013810e+08</td>\n",
              "      <td>2.932350e+08</td>\n",
              "      <td>3.081460e+08</td>\n",
              "      <td>10.000000</td>\n",
              "      <td>24.000000</td>\n",
              "      <td>27.000000</td>\n",
              "      <td>5.500000</td>\n",
              "      <td>1.755249e+12</td>\n",
              "      <td>4.000000</td>\n",
              "      <td>-5.113203e+09</td>\n",
              "    </tr>\n",
              "    <tr>\n",
              "      <th>75%</th>\n",
              "      <td>1.250900e+09</td>\n",
              "      <td>6.054131e+08</td>\n",
              "      <td>6.440155e+08</td>\n",
              "      <td>10.250000</td>\n",
              "      <td>28.000000</td>\n",
              "      <td>50.000000</td>\n",
              "      <td>6.000000</td>\n",
              "      <td>8.698870e+12</td>\n",
              "      <td>7.000000</td>\n",
              "      <td>1.879975e+10</td>\n",
              "    </tr>\n",
              "    <tr>\n",
              "      <th>max</th>\n",
              "      <td>1.410929e+09</td>\n",
              "      <td>6.872459e+08</td>\n",
              "      <td>7.236835e+08</td>\n",
              "      <td>12.000000</td>\n",
              "      <td>40.000000</td>\n",
              "      <td>63.000000</td>\n",
              "      <td>13.000000</td>\n",
              "      <td>2.143322e+13</td>\n",
              "      <td>23.000000</td>\n",
              "      <td>2.945520e+11</td>\n",
              "    </tr>\n",
              "  </tbody>\n",
              "</table>\n",
              "</div>\n",
              "      <button class=\"colab-df-convert\" onclick=\"convertToInteractive('df-863db5b7-aa08-426b-b698-ef9f2db442f9')\"\n",
              "              title=\"Convert this dataframe to an interactive table.\"\n",
              "              style=\"display:none;\">\n",
              "        \n",
              "  <svg xmlns=\"http://www.w3.org/2000/svg\" height=\"24px\"viewBox=\"0 0 24 24\"\n",
              "       width=\"24px\">\n",
              "    <path d=\"M0 0h24v24H0V0z\" fill=\"none\"/>\n",
              "    <path d=\"M18.56 5.44l.94 2.06.94-2.06 2.06-.94-2.06-.94-.94-2.06-.94 2.06-2.06.94zm-11 1L8.5 8.5l.94-2.06 2.06-.94-2.06-.94L8.5 2.5l-.94 2.06-2.06.94zm10 10l.94 2.06.94-2.06 2.06-.94-2.06-.94-.94-2.06-.94 2.06-2.06.94z\"/><path d=\"M17.41 7.96l-1.37-1.37c-.4-.4-.92-.59-1.43-.59-.52 0-1.04.2-1.43.59L10.3 9.45l-7.72 7.72c-.78.78-.78 2.05 0 2.83L4 21.41c.39.39.9.59 1.41.59.51 0 1.02-.2 1.41-.59l7.78-7.78 2.81-2.81c.8-.78.8-2.07 0-2.86zM5.41 20L4 18.59l7.72-7.72 1.47 1.35L5.41 20z\"/>\n",
              "  </svg>\n",
              "      </button>\n",
              "      \n",
              "  <style>\n",
              "    .colab-df-container {\n",
              "      display:flex;\n",
              "      flex-wrap:wrap;\n",
              "      gap: 12px;\n",
              "    }\n",
              "\n",
              "    .colab-df-convert {\n",
              "      background-color: #E8F0FE;\n",
              "      border: none;\n",
              "      border-radius: 50%;\n",
              "      cursor: pointer;\n",
              "      display: none;\n",
              "      fill: #1967D2;\n",
              "      height: 32px;\n",
              "      padding: 0 0 0 0;\n",
              "      width: 32px;\n",
              "    }\n",
              "\n",
              "    .colab-df-convert:hover {\n",
              "      background-color: #E2EBFA;\n",
              "      box-shadow: 0px 1px 2px rgba(60, 64, 67, 0.3), 0px 1px 3px 1px rgba(60, 64, 67, 0.15);\n",
              "      fill: #174EA6;\n",
              "    }\n",
              "\n",
              "    [theme=dark] .colab-df-convert {\n",
              "      background-color: #3B4455;\n",
              "      fill: #D2E3FC;\n",
              "    }\n",
              "\n",
              "    [theme=dark] .colab-df-convert:hover {\n",
              "      background-color: #434B5C;\n",
              "      box-shadow: 0px 1px 3px 1px rgba(0, 0, 0, 0.15);\n",
              "      filter: drop-shadow(0px 1px 2px rgba(0, 0, 0, 0.3));\n",
              "      fill: #FFFFFF;\n",
              "    }\n",
              "  </style>\n",
              "\n",
              "      <script>\n",
              "        const buttonEl =\n",
              "          document.querySelector('#df-863db5b7-aa08-426b-b698-ef9f2db442f9 button.colab-df-convert');\n",
              "        buttonEl.style.display =\n",
              "          google.colab.kernel.accessAllowed ? 'block' : 'none';\n",
              "\n",
              "        async function convertToInteractive(key) {\n",
              "          const element = document.querySelector('#df-863db5b7-aa08-426b-b698-ef9f2db442f9');\n",
              "          const dataTable =\n",
              "            await google.colab.kernel.invokeFunction('convertToInteractive',\n",
              "                                                     [key], {});\n",
              "          if (!dataTable) return;\n",
              "\n",
              "          const docLinkHtml = 'Like what you see? Visit the ' +\n",
              "            '<a target=\"_blank\" href=https://colab.research.google.com/notebooks/data_table.ipynb>data table notebook</a>'\n",
              "            + ' to learn more about interactive tables.';\n",
              "          element.innerHTML = '';\n",
              "          dataTable['output_type'] = 'display_data';\n",
              "          await google.colab.output.renderOutput(dataTable, element);\n",
              "          const docLink = document.createElement('div');\n",
              "          docLink.innerHTML = docLinkHtml;\n",
              "          element.appendChild(docLink);\n",
              "        }\n",
              "      </script>\n",
              "    </div>\n",
              "  </div>\n",
              "  "
            ]
          },
          "metadata": {},
          "execution_count": 17
        }
      ]
    },
    {
      "cell_type": "markdown",
      "source": [
        "From the above description of data, we can infer following things,\n",
        "1) In case of Compulsory Education Duration \n",
        "- Minimum compulsory duration for all the countries is 8 years \n",
        "- Maximum compulsory education duration is 12 years.\n",
        "- Average is 9.8 years\n",
        "\n",
        "2) In case of Unemployment \n",
        "- Maximum percent of unemployment is seen as 13%\n",
        "- Minimum percent of unemployment is seen as 2%\n",
        "- Large number of data i.e 75% data contains unployment as 6%\n",
        "\n",
        "3) In case of Employment in industry and employment in agriculture\n",
        "- Maximum employment for agriculture is seen as 63% and for industry it is seen as 40%\n",
        "- There is not much difference between the mean of the two features, but there is a drastic difference between the standard deviation of the two.\n",
        "- For employment in agriculture, minimum is 1% and maximum is 63%, hence we can say that there is lot of variation in the feature i.e. Employment in agriculture."
      ],
      "metadata": {
        "id": "-iLhQbWYAV-c"
      }
    },
    {
      "cell_type": "code",
      "source": [
        "#Checking with unique values in each categorical variable:\n",
        "print(\"Number of unique values in Year of dataframe : \", combined_df[\"Year\"].nunique())\n",
        "print(\"Different Years : \\n\", combined_df[\"Year\"].unique())\n",
        "print(\"\\nNumber of unique values in Country of dataframe : \", combined_df[\"Country\"].nunique())\n",
        "print(\"Different Countries : \\n\", combined_df[\"Country\"].unique())"
      ],
      "metadata": {
        "colab": {
          "base_uri": "https://localhost:8080/"
        },
        "id": "XqYLtauXBvWW",
        "outputId": "e71f9a51-4f9c-4788-a164-88f8f0b3dce4"
      },
      "execution_count": null,
      "outputs": [
        {
          "output_type": "stream",
          "name": "stdout",
          "text": [
            "Number of unique values in Year of dataframe :  31\n",
            "Different Years : \n",
            " [2021 2020 2019 2018 2017 2016 2015 2014 2013 2012 2011 2010 2009 2008\n",
            " 2007 2006 2005 2004 2003 2002 2001 2000 1999 1998 1997 1996 1995 1994\n",
            " 1993 1992 1991]\n",
            "\n",
            "Number of unique values in Country of dataframe :  4\n",
            "Different Countries : \n",
            " ['USA' 'India' 'China' 'Russia']\n"
          ]
        }
      ]
    },
    {
      "cell_type": "markdown",
      "source": [
        "From above we can see that, we have taken data for 31 years and for 4 countries."
      ],
      "metadata": {
        "id": "vQm_hBikmiNo"
      }
    },
    {
      "cell_type": "code",
      "source": [
        "# Checking with correlation matrix using heatmap\n",
        "import matplotlib.pyplot as plt\n",
        "\n",
        "plt.figure(figsize=(10,8))\n",
        "sns.heatmap(combined_df.corr(), annot=True)"
      ],
      "metadata": {
        "colab": {
          "base_uri": "https://localhost:8080/",
          "height": 645
        },
        "id": "BGHVGVSOCtWD",
        "outputId": "2194ca28-4e5b-4131-f175-7f79bc40f3f3"
      },
      "execution_count": null,
      "outputs": [
        {
          "output_type": "execute_result",
          "data": {
            "text/plain": [
              "<matplotlib.axes._subplots.AxesSubplot at 0x7f9bc967be90>"
            ]
          },
          "metadata": {},
          "execution_count": 19
        },
        {
          "output_type": "display_data",
          "data": {
            "text/plain": [
              "<Figure size 720x576 with 2 Axes>"
            ],
            "image/png": "[encoded data removed]"
          },
          "metadata": {
            "needs_background": "light"
          }
        }
      ]
    },
    {
      "cell_type": "markdown",
      "source": [
        "Above correlation matrix infers following things - \n",
        "- There is a very high correlation between the total population and male and female population. It is as expected because Total population = Female population + Male Population\n",
        "\n",
        "Hence keeping just total population, and removing the Female and male population columns for the analysis."
      ],
      "metadata": {
        "id": "aFIdoQ8PrQ9N"
      }
    },
    {
      "cell_type": "code",
      "source": [
        "combined_df = combined_df.drop(columns =['Female Population','Male Population'])"
      ],
      "metadata": {
        "id": "qu4Mdc8sr9pl"
      },
      "execution_count": null,
      "outputs": []
    },
    {
      "cell_type": "code",
      "source": [
        "# Checking how are the features related to GDP, whether they are positively correlated or negatively correlated\n",
        "correlations = combined_df.corrwith(combined_df['GDP in USD'])\n",
        "correlations = correlations[correlations!=1]\n",
        "correlations.plot.bar(\n",
        "        figsize = (10, 6), \n",
        "        fontsize = 12, \n",
        "        color = '#ec838a',\n",
        "        rot = 90, grid = True)\n",
        "plt.title('Correlation with GDP \\n',\n",
        "horizontalalignment=\"center\", fontstyle = \"normal\", \n",
        "fontsize = \"12\", fontfamily = \"sans-serif\")"
      ],
      "metadata": {
        "colab": {
          "base_uri": "https://localhost:8080/",
          "height": 595
        },
        "id": "Wz34PUgdEgj3",
        "outputId": "f4101f49-dede-4c1a-a2cf-5c8fda07979b"
      },
      "execution_count": null,
      "outputs": [
        {
          "output_type": "execute_result",
          "data": {
            "text/plain": [
              "Text(0.5, 1.0, 'Correlation with GDP \\n')"
            ]
          },
          "metadata": {},
          "execution_count": 21
        },
        {
          "output_type": "display_data",
          "data": {
            "text/plain": [
              "<Figure size 720x432 with 1 Axes>"
            ],
            "image/png": "[encoded data removed]"
          },
          "metadata": {
            "needs_background": "light"
          }
        }
      ]
    },
    {
      "cell_type": "markdown",
      "source": [
        "From the above visualization, we can infer following things -\n",
        "- The highest positive correlation with GDP is shown by net income from abroad. It is as expected, because as the net income from abroad increases the GDP will also increase.\n",
        "- Same is the case with compulsory education duration. As the country raises its compulsory education duration GDP will also increase as it will have lot of educated individuals.\n",
        "- Other obvious conclusion is that unemployment is negatively correlated. Hence as unemployment increases, GDP decreases. Also same is the case with population, as population increases, GDP decreases.\n",
        "- Interesting observation is that, Employment in Agriculture is negatively correlated. GDP will decrease if Employment in agriculture increases. Same is the case with Employment in industry, but is it minimally correlated.\n",
        "- Another interesting fact is that national income per capita also show minimal negative correlation with GDP."
      ],
      "metadata": {
        "id": "QwKKw8GlvYwd"
      }
    },
    {
      "cell_type": "code",
      "source": [
        "def plot_bar(feature):\n",
        "  df_new = combined_df.groupby('Country')[feature].mean()\n",
        "  country_list = ['China','India','Russia','USA']\n",
        "  # bar plot\n",
        "  plt.figure(figsize=(5, 5))\n",
        "  plt.title(feature + \" for each country \\n\")\n",
        "  sns.set(style=\"whitegrid\")\n",
        "  ax = sns.barplot(x=country_list, y=df_new)"
      ],
      "metadata": {
        "id": "PX4P2ryKI2GX"
      },
      "execution_count": null,
      "outputs": []
    },
    {
      "cell_type": "code",
      "source": [
        "plot_bar('Total Population')"
      ],
      "metadata": {
        "colab": {
          "base_uri": "https://localhost:8080/",
          "height": 351
        },
        "id": "oKakTeEc3bZk",
        "outputId": "6aa3839a-09ba-4072-a34e-ce601b122ab2"
      },
      "execution_count": null,
      "outputs": [
        {
          "output_type": "display_data",
          "data": {
            "text/plain": [
              "<Figure size 360x360 with 1 Axes>"
            ],
            "image/png": "[encoded data removed]"
          },
          "metadata": {
            "needs_background": "light"
          }
        }
      ]
    },
    {
      "cell_type": "markdown",
      "source": [
        "- Population in China is the highest, followed by India\n",
        "- Russia and USA have comparitively low population"
      ],
      "metadata": {
        "id": "x4LCh9AA3pfg"
      }
    },
    {
      "cell_type": "code",
      "source": [
        "plot_bar('Unemployment(%)')"
      ],
      "metadata": {
        "colab": {
          "base_uri": "https://localhost:8080/",
          "height": 353
        },
        "id": "EsvOAO-E9vB7",
        "outputId": "e682c50f-1e6c-4880-9e83-33f6fffd29f9"
      },
      "execution_count": null,
      "outputs": [
        {
          "output_type": "display_data",
          "data": {
            "text/plain": [
              "<Figure size 360x360 with 1 Axes>"
            ],
            "image/png": "[encoded data removed]"
          },
          "metadata": {}
        }
      ]
    },
    {
      "cell_type": "markdown",
      "source": [
        "- Unemployment percentage in Russia is highest, while China has minimum unemployment percentage.\n",
        "- India and USA show similar pattern"
      ],
      "metadata": {
        "id": "saP9pnc035rC"
      }
    },
    {
      "cell_type": "code",
      "source": [
        "plot_bar('Employment in Industry(%)')"
      ],
      "metadata": {
        "colab": {
          "base_uri": "https://localhost:8080/",
          "height": 353
        },
        "id": "RXoCGFWGvwEH",
        "outputId": "dbca72a0-d278-4817-afb6-1ddb5d2e8dac"
      },
      "execution_count": null,
      "outputs": [
        {
          "output_type": "display_data",
          "data": {
            "text/plain": [
              "<Figure size 360x360 with 1 Axes>"
            ],
            "image/png": "[encoded data removed]"
          },
          "metadata": {}
        }
      ]
    },
    {
      "cell_type": "markdown",
      "source": [
        "- We can infer that Employment in industry is higher in Russia followed by China and then USA. Lastly India has minimum employment in industry compared to the rest of the countries according to the data."
      ],
      "metadata": {
        "id": "--I4gs004N2S"
      }
    },
    {
      "cell_type": "code",
      "source": [
        "plot_bar('Employment in Agriculture(%)')"
      ],
      "metadata": {
        "colab": {
          "base_uri": "https://localhost:8080/",
          "height": 353
        },
        "id": "u1y1TDxuv-Q2",
        "outputId": "7f2dc0bf-444d-4d0d-c853-0dfc855b8c1f"
      },
      "execution_count": null,
      "outputs": [
        {
          "output_type": "display_data",
          "data": {
            "text/plain": [
              "<Figure size 360x360 with 1 Axes>"
            ],
            "image/png": "[encoded data removed]"
          },
          "metadata": {}
        }
      ]
    },
    {
      "cell_type": "markdown",
      "source": [
        "- India ranks highest in employment in agriculture followed by China.\n",
        "- USA has least employment in agriculture"
      ],
      "metadata": {
        "id": "XABhjs_g4iY1"
      }
    },
    {
      "cell_type": "code",
      "source": [
        "plot_bar('National Income per Capita')"
      ],
      "metadata": {
        "colab": {
          "base_uri": "https://localhost:8080/",
          "height": 353
        },
        "id": "ZFC1qtHcJ_AR",
        "outputId": "efb5c9ba-34da-420e-edc1-73fba679553d"
      },
      "execution_count": null,
      "outputs": [
        {
          "output_type": "display_data",
          "data": {
            "text/plain": [
              "<Figure size 360x360 with 1 Axes>"
            ],
            "image/png": "[encoded data removed]"
          },
          "metadata": {}
        }
      ]
    },
    {
      "cell_type": "markdown",
      "source": [
        "- National income per capita for China is highest and that of USA is minimum"
      ],
      "metadata": {
        "id": "zxURdM1s47_T"
      }
    },
    {
      "cell_type": "code",
      "source": [
        "plot_bar('Net income from Abroad')"
      ],
      "metadata": {
        "colab": {
          "base_uri": "https://localhost:8080/",
          "height": 353
        },
        "id": "-1KQArhdKMcg",
        "outputId": "e9319d4b-ce7a-4c4f-d999-12497df030d8"
      },
      "execution_count": null,
      "outputs": [
        {
          "output_type": "display_data",
          "data": {
            "text/plain": [
              "<Figure size 360x360 with 1 Axes>"
            ],
            "image/png": "[encoded data removed]"
          },
          "metadata": {}
        }
      ]
    },
    {
      "cell_type": "markdown",
      "source": [
        "- Only USA gets income from abroad.\n",
        "- Other countries do not get income from abroad from the data"
      ],
      "metadata": {
        "id": "H3UA721a5HcT"
      }
    },
    {
      "cell_type": "markdown",
      "source": [
        "Let us try to visualize GDP for 4 countries according to the year."
      ],
      "metadata": {
        "id": "IPKOmGqK5aPQ"
      }
    },
    {
      "cell_type": "code",
      "source": [
        "country_set = set(combined_df['Country'])\n",
        "\n",
        "plt.figure()\n",
        "for country in country_set:\n",
        "     selected_data = combined_df.loc[combined_df['Country'] == country]\n",
        "     plt.plot(selected_data['Year'], selected_data['GDP in USD'], label=country)\n",
        "     \n",
        "plt.legend()\n",
        "plt.title('GDP Growth rate ')\n",
        "plt.ylabel('GDP in USD')\n",
        "plt.xlabel('Year')\n",
        "plt.show()"
      ],
      "metadata": {
        "colab": {
          "base_uri": "https://localhost:8080/",
          "height": 301
        },
        "id": "5g4m19pTcatc",
        "outputId": "29ca834f-00cb-4658-efc1-e206a904e46d"
      },
      "execution_count": null,
      "outputs": [
        {
          "output_type": "display_data",
          "data": {
            "text/plain": [
              "<Figure size 432x288 with 1 Axes>"
            ],
            "image/png": "[encoded data removed]"
          },
          "metadata": {}
        }
      ]
    },
    {
      "cell_type": "markdown",
      "source": [
        "- From the above graph we can say that, there is steep increase in the GDP for USA and China for the past 31 years.\n",
        "- India and Russia comparitively do not vary much"
      ],
      "metadata": {
        "id": "j6e49ui_5kMl"
      }
    },
    {
      "cell_type": "markdown",
      "source": [
        "In order to predict the GDP in USD, we will have to check if the data is stationary, if not we will convert it into stationary."
      ],
      "metadata": {
        "id": "ydvzNtHz6b2M"
      }
    },
    {
      "cell_type": "markdown",
      "source": [
        "# Task 4 - Time Series Analysis"
      ],
      "metadata": {
        "id": "IAysUJD059tb"
      }
    },
    {
      "cell_type": "markdown",
      "source": [
        "**Check if data is stationary Using ACF**\n",
        "\n",
        "Serial dependency is implied by autocorrelation(ACF). It happens when a time series' lagged version is substantially associated with the original. The acf plot illustrates this. The higher the bar in the acf plot, the more a series is dependent."
      ],
      "metadata": {
        "id": "Ot8B9QXJfVzt"
      }
    },
    {
      "cell_type": "code",
      "source": [
        "import pandas.util.testing as tm\n",
        "import statsmodels.api as sm\n",
        "\n",
        "sm.graphics.tsa.plot_acf(combined_df['GDP in USD'],lags=30)\n",
        "plt.show()"
      ],
      "metadata": {
        "colab": {
          "base_uri": "https://localhost:8080/",
          "height": 339
        },
        "id": "zCrqjI8Ed-Ai",
        "outputId": "ad4028f2-8b30-45e5-c4b5-a62e08e6e1a2"
      },
      "execution_count": null,
      "outputs": [
        {
          "output_type": "stream",
          "name": "stderr",
          "text": [
            "/usr/local/lib/python3.7/dist-packages/ipykernel_launcher.py:1: FutureWarning: pandas.util.testing is deprecated. Use the functions in the public API at pandas.testing instead.\n",
            "  \"\"\"Entry point for launching an IPython kernel.\n"
          ]
        },
        {
          "output_type": "display_data",
          "data": {
            "text/plain": [
              "<Figure size 432x288 with 1 Axes>"
            ],
            "image/png": "[encoded data removed]"
          },
          "metadata": {}
        }
      ]
    },
    {
      "cell_type": "markdown",
      "source": [
        "The ACF value is very high, close to one, and it is decreasing slowly.\n",
        "\n",
        "This is the case of a non-stationary series."
      ],
      "metadata": {
        "id": "TF5HbXS8fM1I"
      }
    },
    {
      "cell_type": "markdown",
      "source": [
        "**Check if GDP data is stationary Using ADF Test**\n",
        "\n",
        "Augmented Dickey-Fuller Test - The Augmented Dickey-Fuller test is one of the most popular tests to check for stationarity. It tests the below hypothesis.\n",
        "\n",
        "Null Hypothesis, H0: The time series is not stationary.\n",
        "\n",
        "Alternative Hypothesis, H1: The time series is stationary."
      ],
      "metadata": {
        "id": "gvUHu8aYfem9"
      }
    },
    {
      "cell_type": "code",
      "source": [
        "from statsmodels.tsa.stattools import adfuller\n",
        "\n",
        "stat_test = adfuller(combined_df['GDP in USD'])\n",
        "print('ADF Test Statistic: %.2f' % stat_test[0])\n",
        "print('5%% Critical Value: %.2f' % stat_test[4]['5%'])\n",
        "print('p-value: %.2f' % stat_test[1])"
      ],
      "metadata": {
        "colab": {
          "base_uri": "https://localhost:8080/"
        },
        "id": "8gJ-XgWaet9p",
        "outputId": "bf01e499-8d3f-4651-ed0b-4e7d0da454b6"
      },
      "execution_count": null,
      "outputs": [
        {
          "output_type": "stream",
          "name": "stdout",
          "text": [
            "ADF Test Statistic: -2.63\n",
            "5% Critical Value: -2.89\n",
            "p-value: 0.09\n"
          ]
        }
      ]
    },
    {
      "cell_type": "markdown",
      "source": [
        "The p-value is greater than 0.05 or the absolute value of the test statistics is less than the critical value, you fail to reject H0 and conclude that the time series is not stationary."
      ],
      "metadata": {
        "id": "oZyCL2_gf1Ty"
      }
    },
    {
      "cell_type": "markdown",
      "source": [
        "**If the series is not stationary, making it stationary by taking the difference**"
      ],
      "metadata": {
        "id": "U_EjHMSxgtKW"
      }
    },
    {
      "cell_type": "markdown",
      "source": [
        "Since stationary series are easy to analyze, you can convert a non-stationary series into a stationary series by the method of Differencing. In fact, it is necessary to convert a non-stationary series into a stationary series in order to use time series forecasting models."
      ],
      "metadata": {
        "id": "lOyGgtIFg5cn"
      }
    },
    {
      "cell_type": "code",
      "source": [
        "from statsmodels.tsa.stattools import adfuller\n",
        "\n",
        "stat_test = adfuller(combined_df['GDP in USD'].diff().dropna())\n",
        "print('ADF Test Statistic: %.2f' % stat_test[0])\n",
        "print('5%% Critical Value: %.2f' % stat_test[4]['5%'])\n",
        "print('p-value: %.2f' % stat_test[1])"
      ],
      "metadata": {
        "colab": {
          "base_uri": "https://localhost:8080/"
        },
        "id": "tFJYyUl0hxZo",
        "outputId": "7faf9da1-bb0d-4454-c5f2-41b833735d99"
      },
      "execution_count": null,
      "outputs": [
        {
          "output_type": "stream",
          "name": "stdout",
          "text": [
            "ADF Test Statistic: -10.48\n",
            "5% Critical Value: -2.89\n",
            "p-value: 0.00\n"
          ]
        }
      ]
    },
    {
      "cell_type": "markdown",
      "source": [
        "**Check if the data is normally distributed using QQ Plot**"
      ],
      "metadata": {
        "id": "F4jkvkqN7BX5"
      }
    },
    {
      "cell_type": "code",
      "source": [
        "# Use QQ plot and see if the gdp in usd follow normal distribution\n",
        "from scipy import stats\n",
        "stats.probplot(combined_df['GDP in USD'].diff().dropna(), plot=plt)"
      ],
      "metadata": {
        "colab": {
          "base_uri": "https://localhost:8080/",
          "height": 1000
        },
        "id": "zIDVWt6SkEZN",
        "outputId": "c372584e-4c01-4639-ebce-976e683323ee"
      },
      "execution_count": null,
      "outputs": [
        {
          "output_type": "execute_result",
          "data": {
            "text/plain": [
              "((array([-2.53517899, -2.20753392, -2.01898447, -1.88299617, -1.77490883,\n",
              "         -1.68429332, -1.6057127 , -1.53595628, -1.47296247, -1.41532506,\n",
              "         -1.36204   , -1.31236409, -1.2657311 , -1.22169913, -1.17991637,\n",
              "         -1.14009786, -1.1020094 , -1.06545597, -1.03027338, -0.99632194,\n",
              "         -0.96348179, -0.93164919, -0.90073374, -0.87065609, -0.8413462 ,\n",
              "         -0.81274187, -0.78478758, -0.75743353, -0.73063483, -0.70435089,\n",
              "         -0.67854479, -0.65318287, -0.62823433, -0.60367085, -0.57946634,\n",
              "         -0.55559668, -0.53203947, -0.50877391, -0.48578055, -0.46304122,\n",
              "         -0.44053886, -0.41825741, -0.39618171, -0.37429744, -0.352591  ,\n",
              "         -0.33104944, -0.30966043, -0.28841218, -0.26729336, -0.24629309,\n",
              "         -0.2254009 , -0.20460664, -0.18390049, -0.1632729 , -0.14271455,\n",
              "         -0.12221635, -0.10176938, -0.08136487, -0.06099419, -0.04064878,\n",
              "         -0.02032019,  0.        ,  0.02032019,  0.04064878,  0.06099419,\n",
              "          0.08136487,  0.10176938,  0.12221635,  0.14271455,  0.1632729 ,\n",
              "          0.18390049,  0.20460664,  0.2254009 ,  0.24629309,  0.26729336,\n",
              "          0.28841218,  0.30966043,  0.33104944,  0.352591  ,  0.37429744,\n",
              "          0.39618171,  0.41825741,  0.44053886,  0.46304122,  0.48578055,\n",
              "          0.50877391,  0.53203947,  0.55559668,  0.57946634,  0.60367085,\n",
              "          0.62823433,  0.65318287,  0.67854479,  0.70435089,  0.73063483,\n",
              "          0.75743353,  0.78478758,  0.81274187,  0.8413462 ,  0.87065609,\n",
              "          0.90073374,  0.93164919,  0.96348179,  0.99632194,  1.03027338,\n",
              "          1.06545597,  1.1020094 ,  1.14009786,  1.17991637,  1.22169913,\n",
              "          1.2657311 ,  1.31236409,  1.36204   ,  1.41532506,  1.47296247,\n",
              "          1.53595628,  1.6057127 ,  1.68429332,  1.77490883,  1.88299617,\n",
              "          2.01898447,  2.20753392,  2.53517899]),\n",
              "  array([-3.30289875e+12, -1.58440818e+12, -1.46433625e+12, -1.07713283e+12,\n",
              "         -1.06888175e+12, -1.04396430e+12, -1.03817625e+12, -9.85460801e+11,\n",
              "         -9.80729863e+11, -9.05276685e+11, -8.22911083e+11, -8.21363763e+11,\n",
              "         -7.98210964e+11, -7.97903496e+11, -7.77971184e+11, -7.55485269e+11,\n",
              "         -7.42314499e+11, -7.11136874e+11, -6.54426245e+11, -6.37247242e+11,\n",
              "         -6.21681262e+11, -5.87841847e+11, -5.85870159e+11, -5.67846000e+11,\n",
              "         -5.50528377e+11, -5.43119702e+11, -5.21824824e+11, -5.21008140e+11,\n",
              "         -5.07396040e+11, -5.06775118e+11, -5.04432457e+11, -4.85263745e+11,\n",
              "         -4.66165881e+11, -4.42793230e+11, -4.33373000e+11, -4.28677000e+11,\n",
              "         -3.85119918e+11, -3.62198000e+11, -3.61140623e+11, -3.56674966e+11,\n",
              "         -3.54597655e+11, -3.52513000e+11, -3.38232000e+11, -3.33728733e+11,\n",
              "         -3.30618887e+11, -3.29475935e+11, -3.09775223e+11, -3.02273186e+11,\n",
              "         -2.97412408e+11, -2.95059039e+11, -2.76475553e+11, -2.60985428e+11,\n",
              "         -2.25913434e+11, -1.94985000e+11, -1.91210167e+11, -1.89737951e+11,\n",
              "         -1.82405325e+11, -1.73000417e+11, -1.71723457e+11, -1.70223228e+11,\n",
              "         -1.69392314e+11, -1.62370165e+11, -1.60668920e+11, -1.47434592e+11,\n",
              "         -1.42991021e+11, -1.31154296e+11, -1.29198819e+11, -1.28048849e+11,\n",
              "         -1.19878293e+11, -1.19593388e+11, -1.17349602e+11, -1.11233081e+11,\n",
              "         -1.01449229e+11, -9.78572354e+10, -9.27613366e+10, -8.48772763e+10,\n",
              "         -8.41774730e+10, -8.31294786e+10, -6.74391446e+10, -6.49541697e+10,\n",
              "         -6.44603675e+10, -6.38030138e+10, -4.96388364e+10, -4.79795606e+10,\n",
              "         -4.68919284e+10, -4.35423946e+10, -3.88684238e+10, -3.74689398e+10,\n",
              "         -3.30063692e+10, -3.26151016e+10, -3.01196598e+10, -2.94969343e+10,\n",
              "         -2.90842623e+10, -2.29706995e+10, -2.25154055e+10, -1.81030885e+10,\n",
              "         -1.78155697e+10, -1.70460773e+10, -1.32040634e+10, -9.57451992e+09,\n",
              "         -5.48372364e+09, -4.58793136e+09, -1.14868894e+09, -4.59884486e+08,\n",
              "          3.81229499e+09,  8.91240740e+09,  1.78398594e+10,  2.52068430e+10,\n",
              "          4.00064126e+10,  5.08736845e+10,  5.76724061e+10,  7.50483585e+10,\n",
              "          8.66940842e+10,  1.33973467e+11,  2.03950741e+11,  2.10258848e+11,\n",
              "          2.33231281e+11,  2.63911059e+11,  4.38202105e+11,  4.80194697e+11,\n",
              "          6.95760902e+11,  1.12263987e+12,  1.44017517e+13])),\n",
              " (733218584982.1874, -166148095333.1549, 0.514381824714963))"
            ]
          },
          "metadata": {},
          "execution_count": 33
        },
        {
          "output_type": "display_data",
          "data": {
            "text/plain": [
              "<Figure size 432x288 with 1 Axes>"
            ],
            "image/png": "[encoded data removed]"
          },
          "metadata": {}
        }
      ]
    },
    {
      "cell_type": "markdown",
      "source": [
        "The data is normally distributed, if the points in the QQ-normal plot lie on a straight line. Here, from the QQ Plot we can say that data is normally distributed."
      ],
      "metadata": {
        "id": "R_fKIurnnfkc"
      }
    },
    {
      "cell_type": "markdown",
      "source": [
        "# Task 5 - Machine Learning - Predicting GDP in USD"
      ],
      "metadata": {
        "id": "vvXls7Qn7KUE"
      }
    },
    {
      "cell_type": "markdown",
      "source": [
        "**Label Encode Categorical data**:\n",
        "\n",
        "Machine Learning algorithms can typically only have numerical values as their independent variables. Hence label encoding is quite pivotal as they encode categorical labels with appropriate numerical values. Here we are label encoding all categorical variables."
      ],
      "metadata": {
        "id": "HFXbJxTl7-ni"
      }
    },
    {
      "cell_type": "code",
      "source": [
        "from sklearn.preprocessing import LabelEncoder\n",
        "#Create a label encoder object\n",
        "le = LabelEncoder()\n",
        "# Label Encoding will be used for columns with 2 or less unique values\n",
        "le_count = 0\n",
        "print(\"Columns encoded\")\n",
        "for col in combined_df.columns[1:]:\n",
        "    if combined_df[col].dtype == 'object':\n",
        "            le.fit(combined_df[col])\n",
        "            combined_df[col] = le.transform(combined_df[col])\n",
        "            le_count += 1\n",
        "            print(col)\n",
        "print('{} columns were label encoded.'.format(le_count))"
      ],
      "metadata": {
        "colab": {
          "base_uri": "https://localhost:8080/"
        },
        "id": "rzu1rEOIK6GN",
        "outputId": "a83a98e9-a4c7-432c-e237-e988f880e7e4"
      },
      "execution_count": null,
      "outputs": [
        {
          "output_type": "stream",
          "name": "stdout",
          "text": [
            "Columns encoded\n",
            "Year\n",
            "Country\n",
            "2 columns were label encoded.\n"
          ]
        }
      ]
    },
    {
      "cell_type": "markdown",
      "source": [
        "**Split the dataset into dependent and independent variables**:\n",
        "\n",
        "Now we need to separate the dataset into X and y values. y would be the GDP column while X would be the remaining list of independent variables in the dataset."
      ],
      "metadata": {
        "id": "h-WhOo528HjF"
      }
    },
    {
      "cell_type": "code",
      "source": [
        "target = combined_df['GDP in USD'].dropna()\n",
        "dataset = combined_df.drop(columns=['GDP in USD'])"
      ],
      "metadata": {
        "id": "kvrn8XEYLxN0"
      },
      "execution_count": null,
      "outputs": []
    },
    {
      "cell_type": "code",
      "source": [
        "from sklearn.model_selection import train_test_split\n",
        "X_train, X_test, y_train, y_test = train_test_split(dataset, target, test_size = 0.2, random_state = 0)\n",
        "#to resolve any class imbalance - use stratify parameter.\n",
        "print(\"Number transactions X_train dataset: \", X_train.shape)\n",
        "print(\"Number transactions y_train dataset: \", y_train.shape)\n",
        "print(\"Number transactions X_test dataset: \", X_test.shape)\n",
        "print(\"Number transactions y_test dataset: \", y_test.shape)"
      ],
      "metadata": {
        "colab": {
          "base_uri": "https://localhost:8080/"
        },
        "id": "xZaTvaV9MCGn",
        "outputId": "8e50bde8-2197-4b88-9d50-a2add701c045"
      },
      "execution_count": null,
      "outputs": [
        {
          "output_type": "stream",
          "name": "stdout",
          "text": [
            "Number transactions X_train dataset:  (99, 9)\n",
            "Number transactions y_train dataset:  (99,)\n",
            "Number transactions X_test dataset:  (25, 9)\n",
            "Number transactions y_test dataset:  (25,)\n"
          ]
        }
      ]
    },
    {
      "cell_type": "markdown",
      "source": [
        "**Conduct Feature Scaling:**\n",
        "\n",
        "It’s quite important to normalize the variables before conducting any machine learning algorithms so that all the training and test variables are scaled within a range of 0 to 1."
      ],
      "metadata": {
        "id": "QRwOUif-8o1j"
      }
    },
    {
      "cell_type": "code",
      "source": [
        "from sklearn.preprocessing import StandardScaler\n",
        "sc_X = StandardScaler()\n",
        "\n",
        "X_train2 = pd.DataFrame(sc_X.fit_transform(X_train))\n",
        "X_train2.columns = X_train.columns.values\n",
        "X_train2.index = X_train.index.values\n",
        "X_train = X_train2\n",
        "\n",
        "X_test2 = pd.DataFrame(sc_X.transform(X_test))\n",
        "X_test2.columns = X_test.columns.values\n",
        "X_test2.index = X_test.index.values\n",
        "X_test = X_test2\n"
      ],
      "metadata": {
        "id": "SMTjluprd55i"
      },
      "execution_count": null,
      "outputs": []
    },
    {
      "cell_type": "markdown",
      "source": [
        "**Implementing Linear Regression model on the dataset.**\n",
        "- First train the model on the training data using fit()\n",
        "- Predict the values on the test data"
      ],
      "metadata": {
        "id": "bqgHlcr482Bf"
      }
    },
    {
      "cell_type": "code",
      "source": [
        "from sklearn.linear_model import LinearRegression\n",
        "lr = LinearRegression(copy_X=True, fit_intercept=True, n_jobs=0)\n",
        " \n",
        "LR =lr.fit(X_train,y_train)\n",
        " \n",
        "y_pred = lr.predict(X_test)\n",
        "\n",
        "from sklearn import metrics\n",
        "print('ROOT MEAN SQUARE ERROR:',np.sqrt(metrics.mean_squared_error(y_test,y_pred)))\n",
        " \n",
        "from sklearn.metrics import r2_score\n",
        "print('R SQUARE:',r2_score(y_test,y_pred))\n"
      ],
      "metadata": {
        "colab": {
          "base_uri": "https://localhost:8080/"
        },
        "id": "0p1x4GUqmLRv",
        "outputId": "62413cd1-8414-4e96-84b5-ed5d1d8e43e7"
      },
      "execution_count": null,
      "outputs": [
        {
          "output_type": "stream",
          "name": "stdout",
          "text": [
            "ROOT MEAN SQUARE ERROR: 2191078827698.315\n",
            "R SQUARE: 0.8862983230634949\n"
          ]
        }
      ]
    },
    {
      "cell_type": "markdown",
      "source": [
        "RMSE or Root Mean Square Error is the measure of how well a regression line fits the data points"
      ],
      "metadata": {
        "id": "93ILd_1VC6eH"
      }
    },
    {
      "cell_type": "markdown",
      "source": [
        "We can see that Linear Regression model gives R square of 0.88, which is acceptable."
      ],
      "metadata": {
        "id": "-sLFJo0o9RVR"
      }
    },
    {
      "cell_type": "markdown",
      "source": [
        "Lets check with OLS, the summary statistics of the model"
      ],
      "metadata": {
        "id": "Ix6WKXbODiKw"
      }
    },
    {
      "cell_type": "code",
      "source": [
        "import statsmodels.api as sm\n",
        "LR =sm.OLS(y_test,y_pred).fit()\n",
        "LR.summary()"
      ],
      "metadata": {
        "colab": {
          "base_uri": "https://localhost:8080/",
          "height": 430
        },
        "id": "EvMDAjo0-3hf",
        "outputId": "de0982f0-0222-4ada-ca43-ff1aac261d87"
      },
      "execution_count": null,
      "outputs": [
        {
          "output_type": "execute_result",
          "data": {
            "text/plain": [
              "<class 'statsmodels.iolib.summary.Summary'>\n",
              "\"\"\"\n",
              "                                 OLS Regression Results                                \n",
              "=======================================================================================\n",
              "Dep. Variable:             GDP in USD   R-squared (uncentered):                   0.938\n",
              "Model:                            OLS   Adj. R-squared (uncentered):              0.936\n",
              "Method:                 Least Squares   F-statistic:                              365.5\n",
              "Date:                Wed, 30 Mar 2022   Prob (F-statistic):                    4.98e-16\n",
              "Time:                        18:53:33   Log-Likelihood:                         -744.64\n",
              "No. Observations:                  25   AIC:                                      1491.\n",
              "Df Residuals:                      24   BIC:                                      1492.\n",
              "Df Model:                           1                                                  \n",
              "Covariance Type:            nonrobust                                                  \n",
              "==============================================================================\n",
              "                 coef    std err          t      P>|t|      [0.025      0.975]\n",
              "------------------------------------------------------------------------------\n",
              "x1             0.9242      0.048     19.117      0.000       0.824       1.024\n",
              "==============================================================================\n",
              "Omnibus:                        4.787   Durbin-Watson:                   2.611\n",
              "Prob(Omnibus):                  0.091   Jarque-Bera (JB):                2.918\n",
              "Skew:                           0.614   Prob(JB):                        0.232\n",
              "Kurtosis:                       4.137   Cond. No.                         1.00\n",
              "==============================================================================\n",
              "\n",
              "Warnings:\n",
              "[1] Standard Errors assume that the covariance matrix of the errors is correctly specified.\n",
              "\"\"\""
            ],
            "text/html": [
              "<table class=\"simpletable\">\n",
              "<caption>OLS Regression Results</caption>\n",
              "<tr>\n",
              "  <th>Dep. Variable:</th>       <td>GDP in USD</td>    <th>  R-squared (uncentered):</th>      <td>   0.938</td>\n",
              "</tr>\n",
              "<tr>\n",
              "  <th>Model:</th>                   <td>OLS</td>       <th>  Adj. R-squared (uncentered):</th> <td>   0.936</td>\n",
              "</tr>\n",
              "<tr>\n",
              "  <th>Method:</th>             <td>Least Squares</td>  <th>  F-statistic:       </th>          <td>   365.5</td>\n",
              "</tr>\n",
              "<tr>\n",
              "  <th>Date:</th>             <td>Wed, 30 Mar 2022</td> <th>  Prob (F-statistic):</th>          <td>4.98e-16</td>\n",
              "</tr>\n",
              "<tr>\n",
              "  <th>Time:</th>                 <td>18:53:33</td>     <th>  Log-Likelihood:    </th>          <td> -744.64</td>\n",
              "</tr>\n",
              "<tr>\n",
              "  <th>No. Observations:</th>      <td>    25</td>      <th>  AIC:               </th>          <td>   1491.</td>\n",
              "</tr>\n",
              "<tr>\n",
              "  <th>Df Residuals:</th>          <td>    24</td>      <th>  BIC:               </th>          <td>   1492.</td>\n",
              "</tr>\n",
              "<tr>\n",
              "  <th>Df Model:</th>              <td>     1</td>      <th>                     </th>              <td> </td>   \n",
              "</tr>\n",
              "<tr>\n",
              "  <th>Covariance Type:</th>      <td>nonrobust</td>    <th>                     </th>              <td> </td>   \n",
              "</tr>\n",
              "</table>\n",
              "<table class=\"simpletable\">\n",
              "<tr>\n",
              "   <td></td>     <th>coef</th>     <th>std err</th>      <th>t</th>      <th>P>|t|</th>  <th>[0.025</th>    <th>0.975]</th>  \n",
              "</tr>\n",
              "<tr>\n",
              "  <th>x1</th> <td>    0.9242</td> <td>    0.048</td> <td>   19.117</td> <td> 0.000</td> <td>    0.824</td> <td>    1.024</td>\n",
              "</tr>\n",
              "</table>\n",
              "<table class=\"simpletable\">\n",
              "<tr>\n",
              "  <th>Omnibus:</th>       <td> 4.787</td> <th>  Durbin-Watson:     </th> <td>   2.611</td>\n",
              "</tr>\n",
              "<tr>\n",
              "  <th>Prob(Omnibus):</th> <td> 0.091</td> <th>  Jarque-Bera (JB):  </th> <td>   2.918</td>\n",
              "</tr>\n",
              "<tr>\n",
              "  <th>Skew:</th>          <td> 0.614</td> <th>  Prob(JB):          </th> <td>   0.232</td>\n",
              "</tr>\n",
              "<tr>\n",
              "  <th>Kurtosis:</th>      <td> 4.137</td> <th>  Cond. No.          </th> <td>    1.00</td>\n",
              "</tr>\n",
              "</table><br/><br/>Warnings:<br/>[1] Standard Errors assume that the covariance matrix of the errors is correctly specified."
            ]
          },
          "metadata": {},
          "execution_count": 39
        }
      ]
    },
    {
      "cell_type": "markdown",
      "source": [
        "**R – squared value**: \n",
        "R2 is the coefficient of determination that tells us that how much percentage variation independent variable can be explained by independent variable. Here, 93.8 % variation in GDP can be explained by rest of the dataset. The maximum possible value of R2  can be 1, means the larger the R2  value better the regression.\n",
        "\n",
        "**Adjusted R-squared** It is important for analyzing multiple dependent variables’ efficacy on the model\n",
        "\n",
        "**F – statistic**: \n",
        "F test tells the goodness of fit of a regression. The test is similar to the t-test or other tests we do for the hypothesis."
      ],
      "metadata": {
        "id": "arSgsgdaBx0A"
      }
    },
    {
      "cell_type": "code",
      "source": [
        "data = pd.DataFrame(data={\"Predicted GDP in USD\": y_pred.flatten()})"
      ],
      "metadata": {
        "id": "CaIcTrNGroGH"
      },
      "execution_count": null,
      "outputs": []
    },
    {
      "cell_type": "code",
      "source": [
        "# Predicted values\n",
        "data.head(10)"
      ],
      "metadata": {
        "colab": {
          "base_uri": "https://localhost:8080/",
          "height": 363
        },
        "id": "Bg9CiyWPr7gt",
        "outputId": "5fd37278-d9bf-4e87-d678-f105d9b85b2f"
      },
      "execution_count": null,
      "outputs": [
        {
          "output_type": "execute_result",
          "data": {
            "text/plain": [
              "   Predicted GDP in USD\n",
              "0          1.835962e+13\n",
              "1          1.061910e+12\n",
              "2          3.753782e+12\n",
              "3          6.986310e+12\n",
              "4          9.108848e+12\n",
              "5          5.164471e+12\n",
              "6         -4.124518e+11\n",
              "7          3.945155e+10\n",
              "8          1.832325e+13\n",
              "9         -2.593368e+11"
            ],
            "text/html": [
              "\n",
              "  <div id=\"df-348629d2-018e-4f1d-b183-94baccb0ce8b\">\n",
              "    <div class=\"colab-df-container\">\n",
              "      <div>\n",
              "<style scoped>\n",
              "    .dataframe tbody tr th:only-of-type {\n",
              "        vertical-align: middle;\n",
              "    }\n",
              "\n",
              "    .dataframe tbody tr th {\n",
              "        vertical-align: top;\n",
              "    }\n",
              "\n",
              "    .dataframe thead th {\n",
              "        text-align: right;\n",
              "    }\n",
              "</style>\n",
              "<table border=\"1\" class=\"dataframe\">\n",
              "  <thead>\n",
              "    <tr style=\"text-align: right;\">\n",
              "      <th></th>\n",
              "      <th>Predicted GDP in USD</th>\n",
              "    </tr>\n",
              "  </thead>\n",
              "  <tbody>\n",
              "    <tr>\n",
              "      <th>0</th>\n",
              "      <td>1.835962e+13</td>\n",
              "    </tr>\n",
              "    <tr>\n",
              "      <th>1</th>\n",
              "      <td>1.061910e+12</td>\n",
              "    </tr>\n",
              "    <tr>\n",
              "      <th>2</th>\n",
              "      <td>3.753782e+12</td>\n",
              "    </tr>\n",
              "    <tr>\n",
              "      <th>3</th>\n",
              "      <td>6.986310e+12</td>\n",
              "    </tr>\n",
              "    <tr>\n",
              "      <th>4</th>\n",
              "      <td>9.108848e+12</td>\n",
              "    </tr>\n",
              "    <tr>\n",
              "      <th>5</th>\n",
              "      <td>5.164471e+12</td>\n",
              "    </tr>\n",
              "    <tr>\n",
              "      <th>6</th>\n",
              "      <td>-4.124518e+11</td>\n",
              "    </tr>\n",
              "    <tr>\n",
              "      <th>7</th>\n",
              "      <td>3.945155e+10</td>\n",
              "    </tr>\n",
              "    <tr>\n",
              "      <th>8</th>\n",
              "      <td>1.832325e+13</td>\n",
              "    </tr>\n",
              "    <tr>\n",
              "      <th>9</th>\n",
              "      <td>-2.593368e+11</td>\n",
              "    </tr>\n",
              "  </tbody>\n",
              "</table>\n",
              "</div>\n",
              "      <button class=\"colab-df-convert\" onclick=\"convertToInteractive('df-348629d2-018e-4f1d-b183-94baccb0ce8b')\"\n",
              "              title=\"Convert this dataframe to an interactive table.\"\n",
              "              style=\"display:none;\">\n",
              "        \n",
              "  <svg xmlns=\"http://www.w3.org/2000/svg\" height=\"24px\"viewBox=\"0 0 24 24\"\n",
              "       width=\"24px\">\n",
              "    <path d=\"M0 0h24v24H0V0z\" fill=\"none\"/>\n",
              "    <path d=\"M18.56 5.44l.94 2.06.94-2.06 2.06-.94-2.06-.94-.94-2.06-.94 2.06-2.06.94zm-11 1L8.5 8.5l.94-2.06 2.06-.94-2.06-.94L8.5 2.5l-.94 2.06-2.06.94zm10 10l.94 2.06.94-2.06 2.06-.94-2.06-.94-.94-2.06-.94 2.06-2.06.94z\"/><path d=\"M17.41 7.96l-1.37-1.37c-.4-.4-.92-.59-1.43-.59-.52 0-1.04.2-1.43.59L10.3 9.45l-7.72 7.72c-.78.78-.78 2.05 0 2.83L4 21.41c.39.39.9.59 1.41.59.51 0 1.02-.2 1.41-.59l7.78-7.78 2.81-2.81c.8-.78.8-2.07 0-2.86zM5.41 20L4 18.59l7.72-7.72 1.47 1.35L5.41 20z\"/>\n",
              "  </svg>\n",
              "      </button>\n",
              "      \n",
              "  <style>\n",
              "    .colab-df-container {\n",
              "      display:flex;\n",
              "      flex-wrap:wrap;\n",
              "      gap: 12px;\n",
              "    }\n",
              "\n",
              "    .colab-df-convert {\n",
              "      background-color: #E8F0FE;\n",
              "      border: none;\n",
              "      border-radius: 50%;\n",
              "      cursor: pointer;\n",
              "      display: none;\n",
              "      fill: #1967D2;\n",
              "      height: 32px;\n",
              "      padding: 0 0 0 0;\n",
              "      width: 32px;\n",
              "    }\n",
              "\n",
              "    .colab-df-convert:hover {\n",
              "      background-color: #E2EBFA;\n",
              "      box-shadow: 0px 1px 2px rgba(60, 64, 67, 0.3), 0px 1px 3px 1px rgba(60, 64, 67, 0.15);\n",
              "      fill: #174EA6;\n",
              "    }\n",
              "\n",
              "    [theme=dark] .colab-df-convert {\n",
              "      background-color: #3B4455;\n",
              "      fill: #D2E3FC;\n",
              "    }\n",
              "\n",
              "    [theme=dark] .colab-df-convert:hover {\n",
              "      background-color: #434B5C;\n",
              "      box-shadow: 0px 1px 3px 1px rgba(0, 0, 0, 0.15);\n",
              "      filter: drop-shadow(0px 1px 2px rgba(0, 0, 0, 0.3));\n",
              "      fill: #FFFFFF;\n",
              "    }\n",
              "  </style>\n",
              "\n",
              "      <script>\n",
              "        const buttonEl =\n",
              "          document.querySelector('#df-348629d2-018e-4f1d-b183-94baccb0ce8b button.colab-df-convert');\n",
              "        buttonEl.style.display =\n",
              "          google.colab.kernel.accessAllowed ? 'block' : 'none';\n",
              "\n",
              "        async function convertToInteractive(key) {\n",
              "          const element = document.querySelector('#df-348629d2-018e-4f1d-b183-94baccb0ce8b');\n",
              "          const dataTable =\n",
              "            await google.colab.kernel.invokeFunction('convertToInteractive',\n",
              "                                                     [key], {});\n",
              "          if (!dataTable) return;\n",
              "\n",
              "          const docLinkHtml = 'Like what you see? Visit the ' +\n",
              "            '<a target=\"_blank\" href=https://colab.research.google.com/notebooks/data_table.ipynb>data table notebook</a>'\n",
              "            + ' to learn more about interactive tables.';\n",
              "          element.innerHTML = '';\n",
              "          dataTable['output_type'] = 'display_data';\n",
              "          await google.colab.output.renderOutput(dataTable, element);\n",
              "          const docLink = document.createElement('div');\n",
              "          docLink.innerHTML = docLinkHtml;\n",
              "          element.appendChild(docLink);\n",
              "        }\n",
              "      </script>\n",
              "    </div>\n",
              "  </div>\n",
              "  "
            ]
          },
          "metadata": {},
          "execution_count": 41
        }
      ]
    },
    {
      "cell_type": "code",
      "source": [
        "plt.figure(figsize=(5,5))\n",
        "plt.scatter(y_test, y_pred, c='crimson')\n",
        "\n",
        "p1 = max(max(y_pred), max(y_test))\n",
        "p2 = min(min(y_pred), min(y_test))\n",
        "plt.plot([p1, p2], [p1, p2], 'b-') # regression line\n",
        "plt.xlabel('Actual Values', fontsize=15)\n",
        "plt.ylabel('Predictions', fontsize=15)\n",
        "plt.axis('equal')\n",
        "plt.show()"
      ],
      "metadata": {
        "colab": {
          "base_uri": "https://localhost:8080/",
          "height": 352
        },
        "id": "sZLfBkpBEt6F",
        "outputId": "cbe947e1-6e8d-4188-ea18-25da71e21192"
      },
      "execution_count": null,
      "outputs": [
        {
          "output_type": "display_data",
          "data": {
            "text/plain": [
              "<Figure size 360x360 with 1 Axes>"
            ],
            "image/png": "[encoded data removed]"
          },
          "metadata": {}
        }
      ]
    },
    {
      "cell_type": "markdown",
      "source": [
        "The Predicted values are close to regression line"
      ],
      "metadata": {
        "id": "5fsJltcjJkJv"
      }
    }
  ]
}